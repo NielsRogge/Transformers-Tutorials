{
  "nbformat": 4,
  "nbformat_minor": 0,
  "metadata": {
    "colab": {
      "name": "Copy of True inference with LayoutLMv2ForTokenClassification + Gradio demo.ipynb",
      "provenance": [],
      "collapsed_sections": [
        "3FVdhAI7qiK0",
        "7IbG35mXt_3Q",
        "_ouMqK42itAH",
        "mKZiZi6FoJcY",
        "8JNTBw0QtCVR",
        "1oga-ul7Cvgc",
        "PgNJUgG-9poY",
        "LMg3mkfqT5tH",
        "59_tENPL0_Ch"
      ]
    },
    "kernelspec": {
      "display_name": "Python 3",
      "name": "python3"
    },
    "language_info": {
      "name": "python"
    },
    "widgets": {
      "application/vnd.jupyter.widget-state+json": {
        "21085224aa644cda9f37d4c55e053620": {
          "model_module": "@jupyter-widgets/controls",
          "model_name": "HBoxModel",
          "model_module_version": "1.5.0",
          "state": {
            "_dom_classes": [],
            "_model_module": "@jupyter-widgets/controls",
            "_model_module_version": "1.5.0",
            "_model_name": "HBoxModel",
            "_view_count": null,
            "_view_module": "@jupyter-widgets/controls",
            "_view_module_version": "1.5.0",
            "_view_name": "HBoxView",
            "box_style": "",
            "children": [
              "IPY_MODEL_ac8d2927bc3242669417db07ba96eb22",
              "IPY_MODEL_548f0f0b4f3e46f69d069cd91738761e",
              "IPY_MODEL_c96ec194901b4865aef9ee3d43290b10"
            ],
            "layout": "IPY_MODEL_612f3887bf7740298a704a220be37bf9"
          }
        },
        "ac8d2927bc3242669417db07ba96eb22": {
          "model_module": "@jupyter-widgets/controls",
          "model_name": "HTMLModel",
          "model_module_version": "1.5.0",
          "state": {
            "_dom_classes": [],
            "_model_module": "@jupyter-widgets/controls",
            "_model_module_version": "1.5.0",
            "_model_name": "HTMLModel",
            "_view_count": null,
            "_view_module": "@jupyter-widgets/controls",
            "_view_module_version": "1.5.0",
            "_view_name": "HTMLView",
            "description": "",
            "description_tooltip": null,
            "layout": "IPY_MODEL_00a6f6c6901448d99df5583fc801aeaf",
            "placeholder": "​",
            "style": "IPY_MODEL_117caecd37a64fd28c42fb16a684b1c9",
            "value": "Generating train split: "
          }
        },
        "548f0f0b4f3e46f69d069cd91738761e": {
          "model_module": "@jupyter-widgets/controls",
          "model_name": "FloatProgressModel",
          "model_module_version": "1.5.0",
          "state": {
            "_dom_classes": [],
            "_model_module": "@jupyter-widgets/controls",
            "_model_module_version": "1.5.0",
            "_model_name": "FloatProgressModel",
            "_view_count": null,
            "_view_module": "@jupyter-widgets/controls",
            "_view_module_version": "1.5.0",
            "_view_name": "ProgressView",
            "bar_style": "info",
            "description": "",
            "description_tooltip": null,
            "layout": "IPY_MODEL_e20ab564f43f45d7a5ed9a70388495de",
            "max": 1,
            "min": 0,
            "orientation": "horizontal",
            "style": "IPY_MODEL_cbf32407c1a24252b73ee5e1b780182f",
            "value": 1
          }
        },
        "c96ec194901b4865aef9ee3d43290b10": {
          "model_module": "@jupyter-widgets/controls",
          "model_name": "HTMLModel",
          "model_module_version": "1.5.0",
          "state": {
            "_dom_classes": [],
            "_model_module": "@jupyter-widgets/controls",
            "_model_module_version": "1.5.0",
            "_model_name": "HTMLModel",
            "_view_count": null,
            "_view_module": "@jupyter-widgets/controls",
            "_view_module_version": "1.5.0",
            "_view_name": "HTMLView",
            "description": "",
            "description_tooltip": null,
            "layout": "IPY_MODEL_cf52f7135d4e439fae39e9a650827ad9",
            "placeholder": "​",
            "style": "IPY_MODEL_248ea6c8f5514677aea2acffe57c7cdb",
            "value": " 145/0 [00:03&lt;00:00, 61.59 examples/s]"
          }
        },
        "612f3887bf7740298a704a220be37bf9": {
          "model_module": "@jupyter-widgets/base",
          "model_name": "LayoutModel",
          "model_module_version": "1.2.0",
          "state": {
            "_model_module": "@jupyter-widgets/base",
            "_model_module_version": "1.2.0",
            "_model_name": "LayoutModel",
            "_view_count": null,
            "_view_module": "@jupyter-widgets/base",
            "_view_module_version": "1.2.0",
            "_view_name": "LayoutView",
            "align_content": null,
            "align_items": null,
            "align_self": null,
            "border": null,
            "bottom": null,
            "display": null,
            "flex": null,
            "flex_flow": null,
            "grid_area": null,
            "grid_auto_columns": null,
            "grid_auto_flow": null,
            "grid_auto_rows": null,
            "grid_column": null,
            "grid_gap": null,
            "grid_row": null,
            "grid_template_areas": null,
            "grid_template_columns": null,
            "grid_template_rows": null,
            "height": null,
            "justify_content": null,
            "justify_items": null,
            "left": null,
            "margin": null,
            "max_height": null,
            "max_width": null,
            "min_height": null,
            "min_width": null,
            "object_fit": null,
            "object_position": null,
            "order": null,
            "overflow": null,
            "overflow_x": null,
            "overflow_y": null,
            "padding": null,
            "right": null,
            "top": null,
            "visibility": null,
            "width": null
          }
        },
        "00a6f6c6901448d99df5583fc801aeaf": {
          "model_module": "@jupyter-widgets/base",
          "model_name": "LayoutModel",
          "model_module_version": "1.2.0",
          "state": {
            "_model_module": "@jupyter-widgets/base",
            "_model_module_version": "1.2.0",
            "_model_name": "LayoutModel",
            "_view_count": null,
            "_view_module": "@jupyter-widgets/base",
            "_view_module_version": "1.2.0",
            "_view_name": "LayoutView",
            "align_content": null,
            "align_items": null,
            "align_self": null,
            "border": null,
            "bottom": null,
            "display": null,
            "flex": null,
            "flex_flow": null,
            "grid_area": null,
            "grid_auto_columns": null,
            "grid_auto_flow": null,
            "grid_auto_rows": null,
            "grid_column": null,
            "grid_gap": null,
            "grid_row": null,
            "grid_template_areas": null,
            "grid_template_columns": null,
            "grid_template_rows": null,
            "height": null,
            "justify_content": null,
            "justify_items": null,
            "left": null,
            "margin": null,
            "max_height": null,
            "max_width": null,
            "min_height": null,
            "min_width": null,
            "object_fit": null,
            "object_position": null,
            "order": null,
            "overflow": null,
            "overflow_x": null,
            "overflow_y": null,
            "padding": null,
            "right": null,
            "top": null,
            "visibility": null,
            "width": null
          }
        },
        "117caecd37a64fd28c42fb16a684b1c9": {
          "model_module": "@jupyter-widgets/controls",
          "model_name": "DescriptionStyleModel",
          "model_module_version": "1.5.0",
          "state": {
            "_model_module": "@jupyter-widgets/controls",
            "_model_module_version": "1.5.0",
            "_model_name": "DescriptionStyleModel",
            "_view_count": null,
            "_view_module": "@jupyter-widgets/base",
            "_view_module_version": "1.2.0",
            "_view_name": "StyleView",
            "description_width": ""
          }
        },
        "e20ab564f43f45d7a5ed9a70388495de": {
          "model_module": "@jupyter-widgets/base",
          "model_name": "LayoutModel",
          "model_module_version": "1.2.0",
          "state": {
            "_model_module": "@jupyter-widgets/base",
            "_model_module_version": "1.2.0",
            "_model_name": "LayoutModel",
            "_view_count": null,
            "_view_module": "@jupyter-widgets/base",
            "_view_module_version": "1.2.0",
            "_view_name": "LayoutView",
            "align_content": null,
            "align_items": null,
            "align_self": null,
            "border": null,
            "bottom": null,
            "display": null,
            "flex": null,
            "flex_flow": null,
            "grid_area": null,
            "grid_auto_columns": null,
            "grid_auto_flow": null,
            "grid_auto_rows": null,
            "grid_column": null,
            "grid_gap": null,
            "grid_row": null,
            "grid_template_areas": null,
            "grid_template_columns": null,
            "grid_template_rows": null,
            "height": null,
            "justify_content": null,
            "justify_items": null,
            "left": null,
            "margin": null,
            "max_height": null,
            "max_width": null,
            "min_height": null,
            "min_width": null,
            "object_fit": null,
            "object_position": null,
            "order": null,
            "overflow": null,
            "overflow_x": null,
            "overflow_y": null,
            "padding": null,
            "right": null,
            "top": null,
            "visibility": null,
            "width": "20px"
          }
        },
        "cbf32407c1a24252b73ee5e1b780182f": {
          "model_module": "@jupyter-widgets/controls",
          "model_name": "ProgressStyleModel",
          "model_module_version": "1.5.0",
          "state": {
            "_model_module": "@jupyter-widgets/controls",
            "_model_module_version": "1.5.0",
            "_model_name": "ProgressStyleModel",
            "_view_count": null,
            "_view_module": "@jupyter-widgets/base",
            "_view_module_version": "1.2.0",
            "_view_name": "StyleView",
            "bar_color": null,
            "description_width": ""
          }
        },
        "cf52f7135d4e439fae39e9a650827ad9": {
          "model_module": "@jupyter-widgets/base",
          "model_name": "LayoutModel",
          "model_module_version": "1.2.0",
          "state": {
            "_model_module": "@jupyter-widgets/base",
            "_model_module_version": "1.2.0",
            "_model_name": "LayoutModel",
            "_view_count": null,
            "_view_module": "@jupyter-widgets/base",
            "_view_module_version": "1.2.0",
            "_view_name": "LayoutView",
            "align_content": null,
            "align_items": null,
            "align_self": null,
            "border": null,
            "bottom": null,
            "display": null,
            "flex": null,
            "flex_flow": null,
            "grid_area": null,
            "grid_auto_columns": null,
            "grid_auto_flow": null,
            "grid_auto_rows": null,
            "grid_column": null,
            "grid_gap": null,
            "grid_row": null,
            "grid_template_areas": null,
            "grid_template_columns": null,
            "grid_template_rows": null,
            "height": null,
            "justify_content": null,
            "justify_items": null,
            "left": null,
            "margin": null,
            "max_height": null,
            "max_width": null,
            "min_height": null,
            "min_width": null,
            "object_fit": null,
            "object_position": null,
            "order": null,
            "overflow": null,
            "overflow_x": null,
            "overflow_y": null,
            "padding": null,
            "right": null,
            "top": null,
            "visibility": null,
            "width": null
          }
        },
        "248ea6c8f5514677aea2acffe57c7cdb": {
          "model_module": "@jupyter-widgets/controls",
          "model_name": "DescriptionStyleModel",
          "model_module_version": "1.5.0",
          "state": {
            "_model_module": "@jupyter-widgets/controls",
            "_model_module_version": "1.5.0",
            "_model_name": "DescriptionStyleModel",
            "_view_count": null,
            "_view_module": "@jupyter-widgets/base",
            "_view_module_version": "1.2.0",
            "_view_name": "StyleView",
            "description_width": ""
          }
        },
        "bcceab3890d44e8b854dd596c78976f4": {
          "model_module": "@jupyter-widgets/controls",
          "model_name": "HBoxModel",
          "model_module_version": "1.5.0",
          "state": {
            "_dom_classes": [],
            "_model_module": "@jupyter-widgets/controls",
            "_model_module_version": "1.5.0",
            "_model_name": "HBoxModel",
            "_view_count": null,
            "_view_module": "@jupyter-widgets/controls",
            "_view_module_version": "1.5.0",
            "_view_name": "HBoxView",
            "box_style": "",
            "children": [
              "IPY_MODEL_f1e9bbe1ecc74d23b40898a29f0b95bf",
              "IPY_MODEL_d157d6b7d1034f8b9316d8290403cea5",
              "IPY_MODEL_18f3cd2bbf184d6194edb05ee3045094"
            ],
            "layout": "IPY_MODEL_05dd1554e10c4406ac254594ab17135f"
          }
        },
        "f1e9bbe1ecc74d23b40898a29f0b95bf": {
          "model_module": "@jupyter-widgets/controls",
          "model_name": "HTMLModel",
          "model_module_version": "1.5.0",
          "state": {
            "_dom_classes": [],
            "_model_module": "@jupyter-widgets/controls",
            "_model_module_version": "1.5.0",
            "_model_name": "HTMLModel",
            "_view_count": null,
            "_view_module": "@jupyter-widgets/controls",
            "_view_module_version": "1.5.0",
            "_view_name": "HTMLView",
            "description": "",
            "description_tooltip": null,
            "layout": "IPY_MODEL_ee88674e782d42dcab12d73495169849",
            "placeholder": "​",
            "style": "IPY_MODEL_d0b040cb7af0421caa3f80b57ae56d30",
            "value": "Generating test split: "
          }
        },
        "d157d6b7d1034f8b9316d8290403cea5": {
          "model_module": "@jupyter-widgets/controls",
          "model_name": "FloatProgressModel",
          "model_module_version": "1.5.0",
          "state": {
            "_dom_classes": [],
            "_model_module": "@jupyter-widgets/controls",
            "_model_module_version": "1.5.0",
            "_model_name": "FloatProgressModel",
            "_view_count": null,
            "_view_module": "@jupyter-widgets/controls",
            "_view_module_version": "1.5.0",
            "_view_name": "ProgressView",
            "bar_style": "info",
            "description": "",
            "description_tooltip": null,
            "layout": "IPY_MODEL_c38b6d538dc247488359ac9f9ccb1984",
            "max": 1,
            "min": 0,
            "orientation": "horizontal",
            "style": "IPY_MODEL_c28b30174f1b4db8b1a8cd5457f0b513",
            "value": 1
          }
        },
        "18f3cd2bbf184d6194edb05ee3045094": {
          "model_module": "@jupyter-widgets/controls",
          "model_name": "HTMLModel",
          "model_module_version": "1.5.0",
          "state": {
            "_dom_classes": [],
            "_model_module": "@jupyter-widgets/controls",
            "_model_module_version": "1.5.0",
            "_model_name": "HTMLModel",
            "_view_count": null,
            "_view_module": "@jupyter-widgets/controls",
            "_view_module_version": "1.5.0",
            "_view_name": "HTMLView",
            "description": "",
            "description_tooltip": null,
            "layout": "IPY_MODEL_4bfd96e05d0342eb854afbcc4b6729e0",
            "placeholder": "​",
            "style": "IPY_MODEL_5092d75ab6ba48d5a0a6379c6ca7c348",
            "value": " 49/0 [00:00&lt;00:00, 65.68 examples/s]"
          }
        },
        "05dd1554e10c4406ac254594ab17135f": {
          "model_module": "@jupyter-widgets/base",
          "model_name": "LayoutModel",
          "model_module_version": "1.2.0",
          "state": {
            "_model_module": "@jupyter-widgets/base",
            "_model_module_version": "1.2.0",
            "_model_name": "LayoutModel",
            "_view_count": null,
            "_view_module": "@jupyter-widgets/base",
            "_view_module_version": "1.2.0",
            "_view_name": "LayoutView",
            "align_content": null,
            "align_items": null,
            "align_self": null,
            "border": null,
            "bottom": null,
            "display": null,
            "flex": null,
            "flex_flow": null,
            "grid_area": null,
            "grid_auto_columns": null,
            "grid_auto_flow": null,
            "grid_auto_rows": null,
            "grid_column": null,
            "grid_gap": null,
            "grid_row": null,
            "grid_template_areas": null,
            "grid_template_columns": null,
            "grid_template_rows": null,
            "height": null,
            "justify_content": null,
            "justify_items": null,
            "left": null,
            "margin": null,
            "max_height": null,
            "max_width": null,
            "min_height": null,
            "min_width": null,
            "object_fit": null,
            "object_position": null,
            "order": null,
            "overflow": null,
            "overflow_x": null,
            "overflow_y": null,
            "padding": null,
            "right": null,
            "top": null,
            "visibility": null,
            "width": null
          }
        },
        "ee88674e782d42dcab12d73495169849": {
          "model_module": "@jupyter-widgets/base",
          "model_name": "LayoutModel",
          "model_module_version": "1.2.0",
          "state": {
            "_model_module": "@jupyter-widgets/base",
            "_model_module_version": "1.2.0",
            "_model_name": "LayoutModel",
            "_view_count": null,
            "_view_module": "@jupyter-widgets/base",
            "_view_module_version": "1.2.0",
            "_view_name": "LayoutView",
            "align_content": null,
            "align_items": null,
            "align_self": null,
            "border": null,
            "bottom": null,
            "display": null,
            "flex": null,
            "flex_flow": null,
            "grid_area": null,
            "grid_auto_columns": null,
            "grid_auto_flow": null,
            "grid_auto_rows": null,
            "grid_column": null,
            "grid_gap": null,
            "grid_row": null,
            "grid_template_areas": null,
            "grid_template_columns": null,
            "grid_template_rows": null,
            "height": null,
            "justify_content": null,
            "justify_items": null,
            "left": null,
            "margin": null,
            "max_height": null,
            "max_width": null,
            "min_height": null,
            "min_width": null,
            "object_fit": null,
            "object_position": null,
            "order": null,
            "overflow": null,
            "overflow_x": null,
            "overflow_y": null,
            "padding": null,
            "right": null,
            "top": null,
            "visibility": null,
            "width": null
          }
        },
        "d0b040cb7af0421caa3f80b57ae56d30": {
          "model_module": "@jupyter-widgets/controls",
          "model_name": "DescriptionStyleModel",
          "model_module_version": "1.5.0",
          "state": {
            "_model_module": "@jupyter-widgets/controls",
            "_model_module_version": "1.5.0",
            "_model_name": "DescriptionStyleModel",
            "_view_count": null,
            "_view_module": "@jupyter-widgets/base",
            "_view_module_version": "1.2.0",
            "_view_name": "StyleView",
            "description_width": ""
          }
        },
        "c38b6d538dc247488359ac9f9ccb1984": {
          "model_module": "@jupyter-widgets/base",
          "model_name": "LayoutModel",
          "model_module_version": "1.2.0",
          "state": {
            "_model_module": "@jupyter-widgets/base",
            "_model_module_version": "1.2.0",
            "_model_name": "LayoutModel",
            "_view_count": null,
            "_view_module": "@jupyter-widgets/base",
            "_view_module_version": "1.2.0",
            "_view_name": "LayoutView",
            "align_content": null,
            "align_items": null,
            "align_self": null,
            "border": null,
            "bottom": null,
            "display": null,
            "flex": null,
            "flex_flow": null,
            "grid_area": null,
            "grid_auto_columns": null,
            "grid_auto_flow": null,
            "grid_auto_rows": null,
            "grid_column": null,
            "grid_gap": null,
            "grid_row": null,
            "grid_template_areas": null,
            "grid_template_columns": null,
            "grid_template_rows": null,
            "height": null,
            "justify_content": null,
            "justify_items": null,
            "left": null,
            "margin": null,
            "max_height": null,
            "max_width": null,
            "min_height": null,
            "min_width": null,
            "object_fit": null,
            "object_position": null,
            "order": null,
            "overflow": null,
            "overflow_x": null,
            "overflow_y": null,
            "padding": null,
            "right": null,
            "top": null,
            "visibility": null,
            "width": "20px"
          }
        },
        "c28b30174f1b4db8b1a8cd5457f0b513": {
          "model_module": "@jupyter-widgets/controls",
          "model_name": "ProgressStyleModel",
          "model_module_version": "1.5.0",
          "state": {
            "_model_module": "@jupyter-widgets/controls",
            "_model_module_version": "1.5.0",
            "_model_name": "ProgressStyleModel",
            "_view_count": null,
            "_view_module": "@jupyter-widgets/base",
            "_view_module_version": "1.2.0",
            "_view_name": "StyleView",
            "bar_color": null,
            "description_width": ""
          }
        },
        "4bfd96e05d0342eb854afbcc4b6729e0": {
          "model_module": "@jupyter-widgets/base",
          "model_name": "LayoutModel",
          "model_module_version": "1.2.0",
          "state": {
            "_model_module": "@jupyter-widgets/base",
            "_model_module_version": "1.2.0",
            "_model_name": "LayoutModel",
            "_view_count": null,
            "_view_module": "@jupyter-widgets/base",
            "_view_module_version": "1.2.0",
            "_view_name": "LayoutView",
            "align_content": null,
            "align_items": null,
            "align_self": null,
            "border": null,
            "bottom": null,
            "display": null,
            "flex": null,
            "flex_flow": null,
            "grid_area": null,
            "grid_auto_columns": null,
            "grid_auto_flow": null,
            "grid_auto_rows": null,
            "grid_column": null,
            "grid_gap": null,
            "grid_row": null,
            "grid_template_areas": null,
            "grid_template_columns": null,
            "grid_template_rows": null,
            "height": null,
            "justify_content": null,
            "justify_items": null,
            "left": null,
            "margin": null,
            "max_height": null,
            "max_width": null,
            "min_height": null,
            "min_width": null,
            "object_fit": null,
            "object_position": null,
            "order": null,
            "overflow": null,
            "overflow_x": null,
            "overflow_y": null,
            "padding": null,
            "right": null,
            "top": null,
            "visibility": null,
            "width": null
          }
        },
        "5092d75ab6ba48d5a0a6379c6ca7c348": {
          "model_module": "@jupyter-widgets/controls",
          "model_name": "DescriptionStyleModel",
          "model_module_version": "1.5.0",
          "state": {
            "_model_module": "@jupyter-widgets/controls",
            "_model_module_version": "1.5.0",
            "_model_name": "DescriptionStyleModel",
            "_view_count": null,
            "_view_module": "@jupyter-widgets/base",
            "_view_module_version": "1.2.0",
            "_view_name": "StyleView",
            "description_width": ""
          }
        },
        "39b3877225da4db28fd527e8401e7441": {
          "model_module": "@jupyter-widgets/controls",
          "model_name": "HBoxModel",
          "model_module_version": "1.5.0",
          "state": {
            "_dom_classes": [],
            "_model_module": "@jupyter-widgets/controls",
            "_model_module_version": "1.5.0",
            "_model_name": "HBoxModel",
            "_view_count": null,
            "_view_module": "@jupyter-widgets/controls",
            "_view_module_version": "1.5.0",
            "_view_name": "HBoxView",
            "box_style": "",
            "children": [
              "IPY_MODEL_b4b42837e4184fbcade676ff854ff1a6",
              "IPY_MODEL_72562d05a5874cf0a98e075670ad9d6d",
              "IPY_MODEL_1f3c136be42f4fec9bcd4f6deb8576f1"
            ],
            "layout": "IPY_MODEL_1edb1ad817754dc798749936fabf88df"
          }
        },
        "b4b42837e4184fbcade676ff854ff1a6": {
          "model_module": "@jupyter-widgets/controls",
          "model_name": "HTMLModel",
          "model_module_version": "1.5.0",
          "state": {
            "_dom_classes": [],
            "_model_module": "@jupyter-widgets/controls",
            "_model_module_version": "1.5.0",
            "_model_name": "HTMLModel",
            "_view_count": null,
            "_view_module": "@jupyter-widgets/controls",
            "_view_module_version": "1.5.0",
            "_view_name": "HTMLView",
            "description": "",
            "description_tooltip": null,
            "layout": "IPY_MODEL_d9ebe40e4b9c4bb196db39179e9dccda",
            "placeholder": "​",
            "style": "IPY_MODEL_de0af0095b144871bde32ce59462d30d",
            "value": "100%"
          }
        },
        "72562d05a5874cf0a98e075670ad9d6d": {
          "model_module": "@jupyter-widgets/controls",
          "model_name": "FloatProgressModel",
          "model_module_version": "1.5.0",
          "state": {
            "_dom_classes": [],
            "_model_module": "@jupyter-widgets/controls",
            "_model_module_version": "1.5.0",
            "_model_name": "FloatProgressModel",
            "_view_count": null,
            "_view_module": "@jupyter-widgets/controls",
            "_view_module_version": "1.5.0",
            "_view_name": "ProgressView",
            "bar_style": "success",
            "description": "",
            "description_tooltip": null,
            "layout": "IPY_MODEL_f91b60769ff7475fb4dd9488356093f9",
            "max": 2,
            "min": 0,
            "orientation": "horizontal",
            "style": "IPY_MODEL_44c1266f741b4732a3f712b3fcef99ab",
            "value": 2
          }
        },
        "1f3c136be42f4fec9bcd4f6deb8576f1": {
          "model_module": "@jupyter-widgets/controls",
          "model_name": "HTMLModel",
          "model_module_version": "1.5.0",
          "state": {
            "_dom_classes": [],
            "_model_module": "@jupyter-widgets/controls",
            "_model_module_version": "1.5.0",
            "_model_name": "HTMLModel",
            "_view_count": null,
            "_view_module": "@jupyter-widgets/controls",
            "_view_module_version": "1.5.0",
            "_view_name": "HTMLView",
            "description": "",
            "description_tooltip": null,
            "layout": "IPY_MODEL_b4aeb03355514767a24ab616409c36c4",
            "placeholder": "​",
            "style": "IPY_MODEL_be7bdc01e13f4d609fb347396344adb7",
            "value": " 2/2 [00:00&lt;00:00,  9.22it/s]"
          }
        },
        "1edb1ad817754dc798749936fabf88df": {
          "model_module": "@jupyter-widgets/base",
          "model_name": "LayoutModel",
          "model_module_version": "1.2.0",
          "state": {
            "_model_module": "@jupyter-widgets/base",
            "_model_module_version": "1.2.0",
            "_model_name": "LayoutModel",
            "_view_count": null,
            "_view_module": "@jupyter-widgets/base",
            "_view_module_version": "1.2.0",
            "_view_name": "LayoutView",
            "align_content": null,
            "align_items": null,
            "align_self": null,
            "border": null,
            "bottom": null,
            "display": null,
            "flex": null,
            "flex_flow": null,
            "grid_area": null,
            "grid_auto_columns": null,
            "grid_auto_flow": null,
            "grid_auto_rows": null,
            "grid_column": null,
            "grid_gap": null,
            "grid_row": null,
            "grid_template_areas": null,
            "grid_template_columns": null,
            "grid_template_rows": null,
            "height": null,
            "justify_content": null,
            "justify_items": null,
            "left": null,
            "margin": null,
            "max_height": null,
            "max_width": null,
            "min_height": null,
            "min_width": null,
            "object_fit": null,
            "object_position": null,
            "order": null,
            "overflow": null,
            "overflow_x": null,
            "overflow_y": null,
            "padding": null,
            "right": null,
            "top": null,
            "visibility": null,
            "width": null
          }
        },
        "d9ebe40e4b9c4bb196db39179e9dccda": {
          "model_module": "@jupyter-widgets/base",
          "model_name": "LayoutModel",
          "model_module_version": "1.2.0",
          "state": {
            "_model_module": "@jupyter-widgets/base",
            "_model_module_version": "1.2.0",
            "_model_name": "LayoutModel",
            "_view_count": null,
            "_view_module": "@jupyter-widgets/base",
            "_view_module_version": "1.2.0",
            "_view_name": "LayoutView",
            "align_content": null,
            "align_items": null,
            "align_self": null,
            "border": null,
            "bottom": null,
            "display": null,
            "flex": null,
            "flex_flow": null,
            "grid_area": null,
            "grid_auto_columns": null,
            "grid_auto_flow": null,
            "grid_auto_rows": null,
            "grid_column": null,
            "grid_gap": null,
            "grid_row": null,
            "grid_template_areas": null,
            "grid_template_columns": null,
            "grid_template_rows": null,
            "height": null,
            "justify_content": null,
            "justify_items": null,
            "left": null,
            "margin": null,
            "max_height": null,
            "max_width": null,
            "min_height": null,
            "min_width": null,
            "object_fit": null,
            "object_position": null,
            "order": null,
            "overflow": null,
            "overflow_x": null,
            "overflow_y": null,
            "padding": null,
            "right": null,
            "top": null,
            "visibility": null,
            "width": null
          }
        },
        "de0af0095b144871bde32ce59462d30d": {
          "model_module": "@jupyter-widgets/controls",
          "model_name": "DescriptionStyleModel",
          "model_module_version": "1.5.0",
          "state": {
            "_model_module": "@jupyter-widgets/controls",
            "_model_module_version": "1.5.0",
            "_model_name": "DescriptionStyleModel",
            "_view_count": null,
            "_view_module": "@jupyter-widgets/base",
            "_view_module_version": "1.2.0",
            "_view_name": "StyleView",
            "description_width": ""
          }
        },
        "f91b60769ff7475fb4dd9488356093f9": {
          "model_module": "@jupyter-widgets/base",
          "model_name": "LayoutModel",
          "model_module_version": "1.2.0",
          "state": {
            "_model_module": "@jupyter-widgets/base",
            "_model_module_version": "1.2.0",
            "_model_name": "LayoutModel",
            "_view_count": null,
            "_view_module": "@jupyter-widgets/base",
            "_view_module_version": "1.2.0",
            "_view_name": "LayoutView",
            "align_content": null,
            "align_items": null,
            "align_self": null,
            "border": null,
            "bottom": null,
            "display": null,
            "flex": null,
            "flex_flow": null,
            "grid_area": null,
            "grid_auto_columns": null,
            "grid_auto_flow": null,
            "grid_auto_rows": null,
            "grid_column": null,
            "grid_gap": null,
            "grid_row": null,
            "grid_template_areas": null,
            "grid_template_columns": null,
            "grid_template_rows": null,
            "height": null,
            "justify_content": null,
            "justify_items": null,
            "left": null,
            "margin": null,
            "max_height": null,
            "max_width": null,
            "min_height": null,
            "min_width": null,
            "object_fit": null,
            "object_position": null,
            "order": null,
            "overflow": null,
            "overflow_x": null,
            "overflow_y": null,
            "padding": null,
            "right": null,
            "top": null,
            "visibility": null,
            "width": null
          }
        },
        "44c1266f741b4732a3f712b3fcef99ab": {
          "model_module": "@jupyter-widgets/controls",
          "model_name": "ProgressStyleModel",
          "model_module_version": "1.5.0",
          "state": {
            "_model_module": "@jupyter-widgets/controls",
            "_model_module_version": "1.5.0",
            "_model_name": "ProgressStyleModel",
            "_view_count": null,
            "_view_module": "@jupyter-widgets/base",
            "_view_module_version": "1.2.0",
            "_view_name": "StyleView",
            "bar_color": null,
            "description_width": ""
          }
        },
        "b4aeb03355514767a24ab616409c36c4": {
          "model_module": "@jupyter-widgets/base",
          "model_name": "LayoutModel",
          "model_module_version": "1.2.0",
          "state": {
            "_model_module": "@jupyter-widgets/base",
            "_model_module_version": "1.2.0",
            "_model_name": "LayoutModel",
            "_view_count": null,
            "_view_module": "@jupyter-widgets/base",
            "_view_module_version": "1.2.0",
            "_view_name": "LayoutView",
            "align_content": null,
            "align_items": null,
            "align_self": null,
            "border": null,
            "bottom": null,
            "display": null,
            "flex": null,
            "flex_flow": null,
            "grid_area": null,
            "grid_auto_columns": null,
            "grid_auto_flow": null,
            "grid_auto_rows": null,
            "grid_column": null,
            "grid_gap": null,
            "grid_row": null,
            "grid_template_areas": null,
            "grid_template_columns": null,
            "grid_template_rows": null,
            "height": null,
            "justify_content": null,
            "justify_items": null,
            "left": null,
            "margin": null,
            "max_height": null,
            "max_width": null,
            "min_height": null,
            "min_width": null,
            "object_fit": null,
            "object_position": null,
            "order": null,
            "overflow": null,
            "overflow_x": null,
            "overflow_y": null,
            "padding": null,
            "right": null,
            "top": null,
            "visibility": null,
            "width": null
          }
        },
        "be7bdc01e13f4d609fb347396344adb7": {
          "model_module": "@jupyter-widgets/controls",
          "model_name": "DescriptionStyleModel",
          "model_module_version": "1.5.0",
          "state": {
            "_model_module": "@jupyter-widgets/controls",
            "_model_module_version": "1.5.0",
            "_model_name": "DescriptionStyleModel",
            "_view_count": null,
            "_view_module": "@jupyter-widgets/base",
            "_view_module_version": "1.2.0",
            "_view_name": "StyleView",
            "description_width": ""
          }
        },
        "59dbd9b29b7143bbbd6593f2fbb0c37a": {
          "model_module": "@jupyter-widgets/controls",
          "model_name": "HBoxModel",
          "model_module_version": "1.5.0",
          "state": {
            "_dom_classes": [],
            "_model_module": "@jupyter-widgets/controls",
            "_model_module_version": "1.5.0",
            "_model_name": "HBoxModel",
            "_view_count": null,
            "_view_module": "@jupyter-widgets/controls",
            "_view_module_version": "1.5.0",
            "_view_name": "HBoxView",
            "box_style": "",
            "children": [
              "IPY_MODEL_467604be765f4f82b0c008da8509875d",
              "IPY_MODEL_f1ffc1949f364f2cb28116c391099c4d",
              "IPY_MODEL_831765cb2eda43bab4638a1c4485a6e4"
            ],
            "layout": "IPY_MODEL_65ecb52b86e442da803018a8138d045f"
          }
        },
        "467604be765f4f82b0c008da8509875d": {
          "model_module": "@jupyter-widgets/controls",
          "model_name": "HTMLModel",
          "model_module_version": "1.5.0",
          "state": {
            "_dom_classes": [],
            "_model_module": "@jupyter-widgets/controls",
            "_model_module_version": "1.5.0",
            "_model_name": "HTMLModel",
            "_view_count": null,
            "_view_module": "@jupyter-widgets/controls",
            "_view_module_version": "1.5.0",
            "_view_name": "HTMLView",
            "description": "",
            "description_tooltip": null,
            "layout": "IPY_MODEL_f6b6d19ae76e4753894d20e53951ae3f",
            "placeholder": "​",
            "style": "IPY_MODEL_a5714617d9f4422482bbb74fdc1d0915",
            "value": "Downloading: 100%"
          }
        },
        "f1ffc1949f364f2cb28116c391099c4d": {
          "model_module": "@jupyter-widgets/controls",
          "model_name": "FloatProgressModel",
          "model_module_version": "1.5.0",
          "state": {
            "_dom_classes": [],
            "_model_module": "@jupyter-widgets/controls",
            "_model_module_version": "1.5.0",
            "_model_name": "FloatProgressModel",
            "_view_count": null,
            "_view_module": "@jupyter-widgets/controls",
            "_view_module_version": "1.5.0",
            "_view_name": "ProgressView",
            "bar_style": "success",
            "description": "",
            "description_tooltip": null,
            "layout": "IPY_MODEL_9172fc8cc34d4ad58f24ba43dbc720e8",
            "max": 135,
            "min": 0,
            "orientation": "horizontal",
            "style": "IPY_MODEL_609150a64aa64013b406ac26f2b125dd",
            "value": 135
          }
        },
        "831765cb2eda43bab4638a1c4485a6e4": {
          "model_module": "@jupyter-widgets/controls",
          "model_name": "HTMLModel",
          "model_module_version": "1.5.0",
          "state": {
            "_dom_classes": [],
            "_model_module": "@jupyter-widgets/controls",
            "_model_module_version": "1.5.0",
            "_model_name": "HTMLModel",
            "_view_count": null,
            "_view_module": "@jupyter-widgets/controls",
            "_view_module_version": "1.5.0",
            "_view_name": "HTMLView",
            "description": "",
            "description_tooltip": null,
            "layout": "IPY_MODEL_f275d4150e0d492f86d025fc347a9919",
            "placeholder": "​",
            "style": "IPY_MODEL_de6722356b944fd6af51f89df13e5730",
            "value": " 135/135 [00:00&lt;00:00, 2.70kB/s]"
          }
        },
        "65ecb52b86e442da803018a8138d045f": {
          "model_module": "@jupyter-widgets/base",
          "model_name": "LayoutModel",
          "model_module_version": "1.2.0",
          "state": {
            "_model_module": "@jupyter-widgets/base",
            "_model_module_version": "1.2.0",
            "_model_name": "LayoutModel",
            "_view_count": null,
            "_view_module": "@jupyter-widgets/base",
            "_view_module_version": "1.2.0",
            "_view_name": "LayoutView",
            "align_content": null,
            "align_items": null,
            "align_self": null,
            "border": null,
            "bottom": null,
            "display": null,
            "flex": null,
            "flex_flow": null,
            "grid_area": null,
            "grid_auto_columns": null,
            "grid_auto_flow": null,
            "grid_auto_rows": null,
            "grid_column": null,
            "grid_gap": null,
            "grid_row": null,
            "grid_template_areas": null,
            "grid_template_columns": null,
            "grid_template_rows": null,
            "height": null,
            "justify_content": null,
            "justify_items": null,
            "left": null,
            "margin": null,
            "max_height": null,
            "max_width": null,
            "min_height": null,
            "min_width": null,
            "object_fit": null,
            "object_position": null,
            "order": null,
            "overflow": null,
            "overflow_x": null,
            "overflow_y": null,
            "padding": null,
            "right": null,
            "top": null,
            "visibility": null,
            "width": null
          }
        },
        "f6b6d19ae76e4753894d20e53951ae3f": {
          "model_module": "@jupyter-widgets/base",
          "model_name": "LayoutModel",
          "model_module_version": "1.2.0",
          "state": {
            "_model_module": "@jupyter-widgets/base",
            "_model_module_version": "1.2.0",
            "_model_name": "LayoutModel",
            "_view_count": null,
            "_view_module": "@jupyter-widgets/base",
            "_view_module_version": "1.2.0",
            "_view_name": "LayoutView",
            "align_content": null,
            "align_items": null,
            "align_self": null,
            "border": null,
            "bottom": null,
            "display": null,
            "flex": null,
            "flex_flow": null,
            "grid_area": null,
            "grid_auto_columns": null,
            "grid_auto_flow": null,
            "grid_auto_rows": null,
            "grid_column": null,
            "grid_gap": null,
            "grid_row": null,
            "grid_template_areas": null,
            "grid_template_columns": null,
            "grid_template_rows": null,
            "height": null,
            "justify_content": null,
            "justify_items": null,
            "left": null,
            "margin": null,
            "max_height": null,
            "max_width": null,
            "min_height": null,
            "min_width": null,
            "object_fit": null,
            "object_position": null,
            "order": null,
            "overflow": null,
            "overflow_x": null,
            "overflow_y": null,
            "padding": null,
            "right": null,
            "top": null,
            "visibility": null,
            "width": null
          }
        },
        "a5714617d9f4422482bbb74fdc1d0915": {
          "model_module": "@jupyter-widgets/controls",
          "model_name": "DescriptionStyleModel",
          "model_module_version": "1.5.0",
          "state": {
            "_model_module": "@jupyter-widgets/controls",
            "_model_module_version": "1.5.0",
            "_model_name": "DescriptionStyleModel",
            "_view_count": null,
            "_view_module": "@jupyter-widgets/base",
            "_view_module_version": "1.2.0",
            "_view_name": "StyleView",
            "description_width": ""
          }
        },
        "9172fc8cc34d4ad58f24ba43dbc720e8": {
          "model_module": "@jupyter-widgets/base",
          "model_name": "LayoutModel",
          "model_module_version": "1.2.0",
          "state": {
            "_model_module": "@jupyter-widgets/base",
            "_model_module_version": "1.2.0",
            "_model_name": "LayoutModel",
            "_view_count": null,
            "_view_module": "@jupyter-widgets/base",
            "_view_module_version": "1.2.0",
            "_view_name": "LayoutView",
            "align_content": null,
            "align_items": null,
            "align_self": null,
            "border": null,
            "bottom": null,
            "display": null,
            "flex": null,
            "flex_flow": null,
            "grid_area": null,
            "grid_auto_columns": null,
            "grid_auto_flow": null,
            "grid_auto_rows": null,
            "grid_column": null,
            "grid_gap": null,
            "grid_row": null,
            "grid_template_areas": null,
            "grid_template_columns": null,
            "grid_template_rows": null,
            "height": null,
            "justify_content": null,
            "justify_items": null,
            "left": null,
            "margin": null,
            "max_height": null,
            "max_width": null,
            "min_height": null,
            "min_width": null,
            "object_fit": null,
            "object_position": null,
            "order": null,
            "overflow": null,
            "overflow_x": null,
            "overflow_y": null,
            "padding": null,
            "right": null,
            "top": null,
            "visibility": null,
            "width": null
          }
        },
        "609150a64aa64013b406ac26f2b125dd": {
          "model_module": "@jupyter-widgets/controls",
          "model_name": "ProgressStyleModel",
          "model_module_version": "1.5.0",
          "state": {
            "_model_module": "@jupyter-widgets/controls",
            "_model_module_version": "1.5.0",
            "_model_name": "ProgressStyleModel",
            "_view_count": null,
            "_view_module": "@jupyter-widgets/base",
            "_view_module_version": "1.2.0",
            "_view_name": "StyleView",
            "bar_color": null,
            "description_width": ""
          }
        },
        "f275d4150e0d492f86d025fc347a9919": {
          "model_module": "@jupyter-widgets/base",
          "model_name": "LayoutModel",
          "model_module_version": "1.2.0",
          "state": {
            "_model_module": "@jupyter-widgets/base",
            "_model_module_version": "1.2.0",
            "_model_name": "LayoutModel",
            "_view_count": null,
            "_view_module": "@jupyter-widgets/base",
            "_view_module_version": "1.2.0",
            "_view_name": "LayoutView",
            "align_content": null,
            "align_items": null,
            "align_self": null,
            "border": null,
            "bottom": null,
            "display": null,
            "flex": null,
            "flex_flow": null,
            "grid_area": null,
            "grid_auto_columns": null,
            "grid_auto_flow": null,
            "grid_auto_rows": null,
            "grid_column": null,
            "grid_gap": null,
            "grid_row": null,
            "grid_template_areas": null,
            "grid_template_columns": null,
            "grid_template_rows": null,
            "height": null,
            "justify_content": null,
            "justify_items": null,
            "left": null,
            "margin": null,
            "max_height": null,
            "max_width": null,
            "min_height": null,
            "min_width": null,
            "object_fit": null,
            "object_position": null,
            "order": null,
            "overflow": null,
            "overflow_x": null,
            "overflow_y": null,
            "padding": null,
            "right": null,
            "top": null,
            "visibility": null,
            "width": null
          }
        },
        "de6722356b944fd6af51f89df13e5730": {
          "model_module": "@jupyter-widgets/controls",
          "model_name": "DescriptionStyleModel",
          "model_module_version": "1.5.0",
          "state": {
            "_model_module": "@jupyter-widgets/controls",
            "_model_module_version": "1.5.0",
            "_model_name": "DescriptionStyleModel",
            "_view_count": null,
            "_view_module": "@jupyter-widgets/base",
            "_view_module_version": "1.2.0",
            "_view_name": "StyleView",
            "description_width": ""
          }
        },
        "0d6020d8dd564767b9cebd693e8144cf": {
          "model_module": "@jupyter-widgets/controls",
          "model_name": "HBoxModel",
          "model_module_version": "1.5.0",
          "state": {
            "_dom_classes": [],
            "_model_module": "@jupyter-widgets/controls",
            "_model_module_version": "1.5.0",
            "_model_name": "HBoxModel",
            "_view_count": null,
            "_view_module": "@jupyter-widgets/controls",
            "_view_module_version": "1.5.0",
            "_view_name": "HBoxView",
            "box_style": "",
            "children": [
              "IPY_MODEL_4c5bf566cd2e4d638a060acaa20057c0",
              "IPY_MODEL_23c046150a62435884ce9bcc81e7189c",
              "IPY_MODEL_89355f49cc7b4d3ba7115b21ec56bbb6"
            ],
            "layout": "IPY_MODEL_3b765c01f081489f9841e4c7c8ad51a3"
          }
        },
        "4c5bf566cd2e4d638a060acaa20057c0": {
          "model_module": "@jupyter-widgets/controls",
          "model_name": "HTMLModel",
          "model_module_version": "1.5.0",
          "state": {
            "_dom_classes": [],
            "_model_module": "@jupyter-widgets/controls",
            "_model_module_version": "1.5.0",
            "_model_name": "HTMLModel",
            "_view_count": null,
            "_view_module": "@jupyter-widgets/controls",
            "_view_module_version": "1.5.0",
            "_view_name": "HTMLView",
            "description": "",
            "description_tooltip": null,
            "layout": "IPY_MODEL_4bf341f617884b219820a5472f13747b",
            "placeholder": "​",
            "style": "IPY_MODEL_e38f16c7d9c54e41b52a9a5789cce2fa",
            "value": "Downloading: 100%"
          }
        },
        "23c046150a62435884ce9bcc81e7189c": {
          "model_module": "@jupyter-widgets/controls",
          "model_name": "FloatProgressModel",
          "model_module_version": "1.5.0",
          "state": {
            "_dom_classes": [],
            "_model_module": "@jupyter-widgets/controls",
            "_model_module_version": "1.5.0",
            "_model_name": "FloatProgressModel",
            "_view_count": null,
            "_view_module": "@jupyter-widgets/controls",
            "_view_module_version": "1.5.0",
            "_view_name": "ProgressView",
            "bar_style": "success",
            "description": "",
            "description_tooltip": null,
            "layout": "IPY_MODEL_72b58bab8f1b4d768b7da8194b5a249c",
            "max": 231508,
            "min": 0,
            "orientation": "horizontal",
            "style": "IPY_MODEL_c7504b319b364ac08dd268501a041e31",
            "value": 231508
          }
        },
        "89355f49cc7b4d3ba7115b21ec56bbb6": {
          "model_module": "@jupyter-widgets/controls",
          "model_name": "HTMLModel",
          "model_module_version": "1.5.0",
          "state": {
            "_dom_classes": [],
            "_model_module": "@jupyter-widgets/controls",
            "_model_module_version": "1.5.0",
            "_model_name": "HTMLModel",
            "_view_count": null,
            "_view_module": "@jupyter-widgets/controls",
            "_view_module_version": "1.5.0",
            "_view_name": "HTMLView",
            "description": "",
            "description_tooltip": null,
            "layout": "IPY_MODEL_f96c43d45c6c4d72aa1469bad254c3ef",
            "placeholder": "​",
            "style": "IPY_MODEL_9117b166fe3845a7b62f7e60c6e158a5",
            "value": " 226k/226k [00:00&lt;00:00, 305kB/s]"
          }
        },
        "3b765c01f081489f9841e4c7c8ad51a3": {
          "model_module": "@jupyter-widgets/base",
          "model_name": "LayoutModel",
          "model_module_version": "1.2.0",
          "state": {
            "_model_module": "@jupyter-widgets/base",
            "_model_module_version": "1.2.0",
            "_model_name": "LayoutModel",
            "_view_count": null,
            "_view_module": "@jupyter-widgets/base",
            "_view_module_version": "1.2.0",
            "_view_name": "LayoutView",
            "align_content": null,
            "align_items": null,
            "align_self": null,
            "border": null,
            "bottom": null,
            "display": null,
            "flex": null,
            "flex_flow": null,
            "grid_area": null,
            "grid_auto_columns": null,
            "grid_auto_flow": null,
            "grid_auto_rows": null,
            "grid_column": null,
            "grid_gap": null,
            "grid_row": null,
            "grid_template_areas": null,
            "grid_template_columns": null,
            "grid_template_rows": null,
            "height": null,
            "justify_content": null,
            "justify_items": null,
            "left": null,
            "margin": null,
            "max_height": null,
            "max_width": null,
            "min_height": null,
            "min_width": null,
            "object_fit": null,
            "object_position": null,
            "order": null,
            "overflow": null,
            "overflow_x": null,
            "overflow_y": null,
            "padding": null,
            "right": null,
            "top": null,
            "visibility": null,
            "width": null
          }
        },
        "4bf341f617884b219820a5472f13747b": {
          "model_module": "@jupyter-widgets/base",
          "model_name": "LayoutModel",
          "model_module_version": "1.2.0",
          "state": {
            "_model_module": "@jupyter-widgets/base",
            "_model_module_version": "1.2.0",
            "_model_name": "LayoutModel",
            "_view_count": null,
            "_view_module": "@jupyter-widgets/base",
            "_view_module_version": "1.2.0",
            "_view_name": "LayoutView",
            "align_content": null,
            "align_items": null,
            "align_self": null,
            "border": null,
            "bottom": null,
            "display": null,
            "flex": null,
            "flex_flow": null,
            "grid_area": null,
            "grid_auto_columns": null,
            "grid_auto_flow": null,
            "grid_auto_rows": null,
            "grid_column": null,
            "grid_gap": null,
            "grid_row": null,
            "grid_template_areas": null,
            "grid_template_columns": null,
            "grid_template_rows": null,
            "height": null,
            "justify_content": null,
            "justify_items": null,
            "left": null,
            "margin": null,
            "max_height": null,
            "max_width": null,
            "min_height": null,
            "min_width": null,
            "object_fit": null,
            "object_position": null,
            "order": null,
            "overflow": null,
            "overflow_x": null,
            "overflow_y": null,
            "padding": null,
            "right": null,
            "top": null,
            "visibility": null,
            "width": null
          }
        },
        "e38f16c7d9c54e41b52a9a5789cce2fa": {
          "model_module": "@jupyter-widgets/controls",
          "model_name": "DescriptionStyleModel",
          "model_module_version": "1.5.0",
          "state": {
            "_model_module": "@jupyter-widgets/controls",
            "_model_module_version": "1.5.0",
            "_model_name": "DescriptionStyleModel",
            "_view_count": null,
            "_view_module": "@jupyter-widgets/base",
            "_view_module_version": "1.2.0",
            "_view_name": "StyleView",
            "description_width": ""
          }
        },
        "72b58bab8f1b4d768b7da8194b5a249c": {
          "model_module": "@jupyter-widgets/base",
          "model_name": "LayoutModel",
          "model_module_version": "1.2.0",
          "state": {
            "_model_module": "@jupyter-widgets/base",
            "_model_module_version": "1.2.0",
            "_model_name": "LayoutModel",
            "_view_count": null,
            "_view_module": "@jupyter-widgets/base",
            "_view_module_version": "1.2.0",
            "_view_name": "LayoutView",
            "align_content": null,
            "align_items": null,
            "align_self": null,
            "border": null,
            "bottom": null,
            "display": null,
            "flex": null,
            "flex_flow": null,
            "grid_area": null,
            "grid_auto_columns": null,
            "grid_auto_flow": null,
            "grid_auto_rows": null,
            "grid_column": null,
            "grid_gap": null,
            "grid_row": null,
            "grid_template_areas": null,
            "grid_template_columns": null,
            "grid_template_rows": null,
            "height": null,
            "justify_content": null,
            "justify_items": null,
            "left": null,
            "margin": null,
            "max_height": null,
            "max_width": null,
            "min_height": null,
            "min_width": null,
            "object_fit": null,
            "object_position": null,
            "order": null,
            "overflow": null,
            "overflow_x": null,
            "overflow_y": null,
            "padding": null,
            "right": null,
            "top": null,
            "visibility": null,
            "width": null
          }
        },
        "c7504b319b364ac08dd268501a041e31": {
          "model_module": "@jupyter-widgets/controls",
          "model_name": "ProgressStyleModel",
          "model_module_version": "1.5.0",
          "state": {
            "_model_module": "@jupyter-widgets/controls",
            "_model_module_version": "1.5.0",
            "_model_name": "ProgressStyleModel",
            "_view_count": null,
            "_view_module": "@jupyter-widgets/base",
            "_view_module_version": "1.2.0",
            "_view_name": "StyleView",
            "bar_color": null,
            "description_width": ""
          }
        },
        "f96c43d45c6c4d72aa1469bad254c3ef": {
          "model_module": "@jupyter-widgets/base",
          "model_name": "LayoutModel",
          "model_module_version": "1.2.0",
          "state": {
            "_model_module": "@jupyter-widgets/base",
            "_model_module_version": "1.2.0",
            "_model_name": "LayoutModel",
            "_view_count": null,
            "_view_module": "@jupyter-widgets/base",
            "_view_module_version": "1.2.0",
            "_view_name": "LayoutView",
            "align_content": null,
            "align_items": null,
            "align_self": null,
            "border": null,
            "bottom": null,
            "display": null,
            "flex": null,
            "flex_flow": null,
            "grid_area": null,
            "grid_auto_columns": null,
            "grid_auto_flow": null,
            "grid_auto_rows": null,
            "grid_column": null,
            "grid_gap": null,
            "grid_row": null,
            "grid_template_areas": null,
            "grid_template_columns": null,
            "grid_template_rows": null,
            "height": null,
            "justify_content": null,
            "justify_items": null,
            "left": null,
            "margin": null,
            "max_height": null,
            "max_width": null,
            "min_height": null,
            "min_width": null,
            "object_fit": null,
            "object_position": null,
            "order": null,
            "overflow": null,
            "overflow_x": null,
            "overflow_y": null,
            "padding": null,
            "right": null,
            "top": null,
            "visibility": null,
            "width": null
          }
        },
        "9117b166fe3845a7b62f7e60c6e158a5": {
          "model_module": "@jupyter-widgets/controls",
          "model_name": "DescriptionStyleModel",
          "model_module_version": "1.5.0",
          "state": {
            "_model_module": "@jupyter-widgets/controls",
            "_model_module_version": "1.5.0",
            "_model_name": "DescriptionStyleModel",
            "_view_count": null,
            "_view_module": "@jupyter-widgets/base",
            "_view_module_version": "1.2.0",
            "_view_name": "StyleView",
            "description_width": ""
          }
        },
        "61c9a687e6d1489799ffac186430bf62": {
          "model_module": "@jupyter-widgets/controls",
          "model_name": "HBoxModel",
          "model_module_version": "1.5.0",
          "state": {
            "_dom_classes": [],
            "_model_module": "@jupyter-widgets/controls",
            "_model_module_version": "1.5.0",
            "_model_name": "HBoxModel",
            "_view_count": null,
            "_view_module": "@jupyter-widgets/controls",
            "_view_module_version": "1.5.0",
            "_view_name": "HBoxView",
            "box_style": "",
            "children": [
              "IPY_MODEL_aee9c20f5e904540b17aa88420dffc1c",
              "IPY_MODEL_5bd97e633db84ac38346f19c212248a4",
              "IPY_MODEL_70a6f1b890c6439aa8b1ae39d760ffaf"
            ],
            "layout": "IPY_MODEL_06b8bfb8e8b24a6cac256df68240cca0"
          }
        },
        "aee9c20f5e904540b17aa88420dffc1c": {
          "model_module": "@jupyter-widgets/controls",
          "model_name": "HTMLModel",
          "model_module_version": "1.5.0",
          "state": {
            "_dom_classes": [],
            "_model_module": "@jupyter-widgets/controls",
            "_model_module_version": "1.5.0",
            "_model_name": "HTMLModel",
            "_view_count": null,
            "_view_module": "@jupyter-widgets/controls",
            "_view_module_version": "1.5.0",
            "_view_name": "HTMLView",
            "description": "",
            "description_tooltip": null,
            "layout": "IPY_MODEL_e79cc0202a4a4b858a2c324d54c4e3b9",
            "placeholder": "​",
            "style": "IPY_MODEL_3bafc26a3a5b4b6f8dcb5fdbcac2c902",
            "value": "Downloading: 100%"
          }
        },
        "5bd97e633db84ac38346f19c212248a4": {
          "model_module": "@jupyter-widgets/controls",
          "model_name": "FloatProgressModel",
          "model_module_version": "1.5.0",
          "state": {
            "_dom_classes": [],
            "_model_module": "@jupyter-widgets/controls",
            "_model_module_version": "1.5.0",
            "_model_name": "FloatProgressModel",
            "_view_count": null,
            "_view_module": "@jupyter-widgets/controls",
            "_view_module_version": "1.5.0",
            "_view_name": "ProgressView",
            "bar_style": "success",
            "description": "",
            "description_tooltip": null,
            "layout": "IPY_MODEL_aa951b9bc1a046c19a8917105ee43822",
            "max": 707,
            "min": 0,
            "orientation": "horizontal",
            "style": "IPY_MODEL_3ab33b2e65bd49c08b8c9f26f0ff7690",
            "value": 707
          }
        },
        "70a6f1b890c6439aa8b1ae39d760ffaf": {
          "model_module": "@jupyter-widgets/controls",
          "model_name": "HTMLModel",
          "model_module_version": "1.5.0",
          "state": {
            "_dom_classes": [],
            "_model_module": "@jupyter-widgets/controls",
            "_model_module_version": "1.5.0",
            "_model_name": "HTMLModel",
            "_view_count": null,
            "_view_module": "@jupyter-widgets/controls",
            "_view_module_version": "1.5.0",
            "_view_name": "HTMLView",
            "description": "",
            "description_tooltip": null,
            "layout": "IPY_MODEL_252ce6cd3d5547bc8eb31e14eea686d2",
            "placeholder": "​",
            "style": "IPY_MODEL_97737a7199d5497ca32a4827d3339f33",
            "value": " 707/707 [00:00&lt;00:00, 4.61kB/s]"
          }
        },
        "06b8bfb8e8b24a6cac256df68240cca0": {
          "model_module": "@jupyter-widgets/base",
          "model_name": "LayoutModel",
          "model_module_version": "1.2.0",
          "state": {
            "_model_module": "@jupyter-widgets/base",
            "_model_module_version": "1.2.0",
            "_model_name": "LayoutModel",
            "_view_count": null,
            "_view_module": "@jupyter-widgets/base",
            "_view_module_version": "1.2.0",
            "_view_name": "LayoutView",
            "align_content": null,
            "align_items": null,
            "align_self": null,
            "border": null,
            "bottom": null,
            "display": null,
            "flex": null,
            "flex_flow": null,
            "grid_area": null,
            "grid_auto_columns": null,
            "grid_auto_flow": null,
            "grid_auto_rows": null,
            "grid_column": null,
            "grid_gap": null,
            "grid_row": null,
            "grid_template_areas": null,
            "grid_template_columns": null,
            "grid_template_rows": null,
            "height": null,
            "justify_content": null,
            "justify_items": null,
            "left": null,
            "margin": null,
            "max_height": null,
            "max_width": null,
            "min_height": null,
            "min_width": null,
            "object_fit": null,
            "object_position": null,
            "order": null,
            "overflow": null,
            "overflow_x": null,
            "overflow_y": null,
            "padding": null,
            "right": null,
            "top": null,
            "visibility": null,
            "width": null
          }
        },
        "e79cc0202a4a4b858a2c324d54c4e3b9": {
          "model_module": "@jupyter-widgets/base",
          "model_name": "LayoutModel",
          "model_module_version": "1.2.0",
          "state": {
            "_model_module": "@jupyter-widgets/base",
            "_model_module_version": "1.2.0",
            "_model_name": "LayoutModel",
            "_view_count": null,
            "_view_module": "@jupyter-widgets/base",
            "_view_module_version": "1.2.0",
            "_view_name": "LayoutView",
            "align_content": null,
            "align_items": null,
            "align_self": null,
            "border": null,
            "bottom": null,
            "display": null,
            "flex": null,
            "flex_flow": null,
            "grid_area": null,
            "grid_auto_columns": null,
            "grid_auto_flow": null,
            "grid_auto_rows": null,
            "grid_column": null,
            "grid_gap": null,
            "grid_row": null,
            "grid_template_areas": null,
            "grid_template_columns": null,
            "grid_template_rows": null,
            "height": null,
            "justify_content": null,
            "justify_items": null,
            "left": null,
            "margin": null,
            "max_height": null,
            "max_width": null,
            "min_height": null,
            "min_width": null,
            "object_fit": null,
            "object_position": null,
            "order": null,
            "overflow": null,
            "overflow_x": null,
            "overflow_y": null,
            "padding": null,
            "right": null,
            "top": null,
            "visibility": null,
            "width": null
          }
        },
        "3bafc26a3a5b4b6f8dcb5fdbcac2c902": {
          "model_module": "@jupyter-widgets/controls",
          "model_name": "DescriptionStyleModel",
          "model_module_version": "1.5.0",
          "state": {
            "_model_module": "@jupyter-widgets/controls",
            "_model_module_version": "1.5.0",
            "_model_name": "DescriptionStyleModel",
            "_view_count": null,
            "_view_module": "@jupyter-widgets/base",
            "_view_module_version": "1.2.0",
            "_view_name": "StyleView",
            "description_width": ""
          }
        },
        "aa951b9bc1a046c19a8917105ee43822": {
          "model_module": "@jupyter-widgets/base",
          "model_name": "LayoutModel",
          "model_module_version": "1.2.0",
          "state": {
            "_model_module": "@jupyter-widgets/base",
            "_model_module_version": "1.2.0",
            "_model_name": "LayoutModel",
            "_view_count": null,
            "_view_module": "@jupyter-widgets/base",
            "_view_module_version": "1.2.0",
            "_view_name": "LayoutView",
            "align_content": null,
            "align_items": null,
            "align_self": null,
            "border": null,
            "bottom": null,
            "display": null,
            "flex": null,
            "flex_flow": null,
            "grid_area": null,
            "grid_auto_columns": null,
            "grid_auto_flow": null,
            "grid_auto_rows": null,
            "grid_column": null,
            "grid_gap": null,
            "grid_row": null,
            "grid_template_areas": null,
            "grid_template_columns": null,
            "grid_template_rows": null,
            "height": null,
            "justify_content": null,
            "justify_items": null,
            "left": null,
            "margin": null,
            "max_height": null,
            "max_width": null,
            "min_height": null,
            "min_width": null,
            "object_fit": null,
            "object_position": null,
            "order": null,
            "overflow": null,
            "overflow_x": null,
            "overflow_y": null,
            "padding": null,
            "right": null,
            "top": null,
            "visibility": null,
            "width": null
          }
        },
        "3ab33b2e65bd49c08b8c9f26f0ff7690": {
          "model_module": "@jupyter-widgets/controls",
          "model_name": "ProgressStyleModel",
          "model_module_version": "1.5.0",
          "state": {
            "_model_module": "@jupyter-widgets/controls",
            "_model_module_version": "1.5.0",
            "_model_name": "ProgressStyleModel",
            "_view_count": null,
            "_view_module": "@jupyter-widgets/base",
            "_view_module_version": "1.2.0",
            "_view_name": "StyleView",
            "bar_color": null,
            "description_width": ""
          }
        },
        "252ce6cd3d5547bc8eb31e14eea686d2": {
          "model_module": "@jupyter-widgets/base",
          "model_name": "LayoutModel",
          "model_module_version": "1.2.0",
          "state": {
            "_model_module": "@jupyter-widgets/base",
            "_model_module_version": "1.2.0",
            "_model_name": "LayoutModel",
            "_view_count": null,
            "_view_module": "@jupyter-widgets/base",
            "_view_module_version": "1.2.0",
            "_view_name": "LayoutView",
            "align_content": null,
            "align_items": null,
            "align_self": null,
            "border": null,
            "bottom": null,
            "display": null,
            "flex": null,
            "flex_flow": null,
            "grid_area": null,
            "grid_auto_columns": null,
            "grid_auto_flow": null,
            "grid_auto_rows": null,
            "grid_column": null,
            "grid_gap": null,
            "grid_row": null,
            "grid_template_areas": null,
            "grid_template_columns": null,
            "grid_template_rows": null,
            "height": null,
            "justify_content": null,
            "justify_items": null,
            "left": null,
            "margin": null,
            "max_height": null,
            "max_width": null,
            "min_height": null,
            "min_width": null,
            "object_fit": null,
            "object_position": null,
            "order": null,
            "overflow": null,
            "overflow_x": null,
            "overflow_y": null,
            "padding": null,
            "right": null,
            "top": null,
            "visibility": null,
            "width": null
          }
        },
        "97737a7199d5497ca32a4827d3339f33": {
          "model_module": "@jupyter-widgets/controls",
          "model_name": "DescriptionStyleModel",
          "model_module_version": "1.5.0",
          "state": {
            "_model_module": "@jupyter-widgets/controls",
            "_model_module_version": "1.5.0",
            "_model_name": "DescriptionStyleModel",
            "_view_count": null,
            "_view_module": "@jupyter-widgets/base",
            "_view_module_version": "1.2.0",
            "_view_name": "StyleView",
            "description_width": ""
          }
        },
        "f6551412143c4525a4c4c858d1435082": {
          "model_module": "@jupyter-widgets/controls",
          "model_name": "HBoxModel",
          "model_module_version": "1.5.0",
          "state": {
            "_dom_classes": [],
            "_model_module": "@jupyter-widgets/controls",
            "_model_module_version": "1.5.0",
            "_model_name": "HBoxModel",
            "_view_count": null,
            "_view_module": "@jupyter-widgets/controls",
            "_view_module_version": "1.5.0",
            "_view_name": "HBoxView",
            "box_style": "",
            "children": [
              "IPY_MODEL_753b8ed6c30345ccb52c9505a4f865c7",
              "IPY_MODEL_1c9f760c8e0b458e97bb8dedcdd18bca",
              "IPY_MODEL_278dc4de19c24a69ba71dc0919caa856"
            ],
            "layout": "IPY_MODEL_4a5b295e8c9543f6a1d34997b0d89700"
          }
        },
        "753b8ed6c30345ccb52c9505a4f865c7": {
          "model_module": "@jupyter-widgets/controls",
          "model_name": "HTMLModel",
          "model_module_version": "1.5.0",
          "state": {
            "_dom_classes": [],
            "_model_module": "@jupyter-widgets/controls",
            "_model_module_version": "1.5.0",
            "_model_name": "HTMLModel",
            "_view_count": null,
            "_view_module": "@jupyter-widgets/controls",
            "_view_module_version": "1.5.0",
            "_view_name": "HTMLView",
            "description": "",
            "description_tooltip": null,
            "layout": "IPY_MODEL_0bf4b1d17c8e4d5b9903e6542fb7e43e",
            "placeholder": "​",
            "style": "IPY_MODEL_a3c427c13afc43e8970558b20ae60d75",
            "value": "Downloading: 100%"
          }
        },
        "1c9f760c8e0b458e97bb8dedcdd18bca": {
          "model_module": "@jupyter-widgets/controls",
          "model_name": "FloatProgressModel",
          "model_module_version": "1.5.0",
          "state": {
            "_dom_classes": [],
            "_model_module": "@jupyter-widgets/controls",
            "_model_module_version": "1.5.0",
            "_model_name": "FloatProgressModel",
            "_view_count": null,
            "_view_module": "@jupyter-widgets/controls",
            "_view_module_version": "1.5.0",
            "_view_name": "ProgressView",
            "bar_style": "success",
            "description": "",
            "description_tooltip": null,
            "layout": "IPY_MODEL_a617838d04614e7baa978af5303f29fd",
            "max": 1370,
            "min": 0,
            "orientation": "horizontal",
            "style": "IPY_MODEL_855426f8405c4977a7300a9f0292a707",
            "value": 1370
          }
        },
        "278dc4de19c24a69ba71dc0919caa856": {
          "model_module": "@jupyter-widgets/controls",
          "model_name": "HTMLModel",
          "model_module_version": "1.5.0",
          "state": {
            "_dom_classes": [],
            "_model_module": "@jupyter-widgets/controls",
            "_model_module_version": "1.5.0",
            "_model_name": "HTMLModel",
            "_view_count": null,
            "_view_module": "@jupyter-widgets/controls",
            "_view_module_version": "1.5.0",
            "_view_name": "HTMLView",
            "description": "",
            "description_tooltip": null,
            "layout": "IPY_MODEL_2bb36cf7ac3f49bc8317d6f3b90b5abe",
            "placeholder": "​",
            "style": "IPY_MODEL_d93478f115774916acaa8bd22b45f7f3",
            "value": " 1.34k/1.34k [00:00&lt;00:00, 7.14kB/s]"
          }
        },
        "4a5b295e8c9543f6a1d34997b0d89700": {
          "model_module": "@jupyter-widgets/base",
          "model_name": "LayoutModel",
          "model_module_version": "1.2.0",
          "state": {
            "_model_module": "@jupyter-widgets/base",
            "_model_module_version": "1.2.0",
            "_model_name": "LayoutModel",
            "_view_count": null,
            "_view_module": "@jupyter-widgets/base",
            "_view_module_version": "1.2.0",
            "_view_name": "LayoutView",
            "align_content": null,
            "align_items": null,
            "align_self": null,
            "border": null,
            "bottom": null,
            "display": null,
            "flex": null,
            "flex_flow": null,
            "grid_area": null,
            "grid_auto_columns": null,
            "grid_auto_flow": null,
            "grid_auto_rows": null,
            "grid_column": null,
            "grid_gap": null,
            "grid_row": null,
            "grid_template_areas": null,
            "grid_template_columns": null,
            "grid_template_rows": null,
            "height": null,
            "justify_content": null,
            "justify_items": null,
            "left": null,
            "margin": null,
            "max_height": null,
            "max_width": null,
            "min_height": null,
            "min_width": null,
            "object_fit": null,
            "object_position": null,
            "order": null,
            "overflow": null,
            "overflow_x": null,
            "overflow_y": null,
            "padding": null,
            "right": null,
            "top": null,
            "visibility": null,
            "width": null
          }
        },
        "0bf4b1d17c8e4d5b9903e6542fb7e43e": {
          "model_module": "@jupyter-widgets/base",
          "model_name": "LayoutModel",
          "model_module_version": "1.2.0",
          "state": {
            "_model_module": "@jupyter-widgets/base",
            "_model_module_version": "1.2.0",
            "_model_name": "LayoutModel",
            "_view_count": null,
            "_view_module": "@jupyter-widgets/base",
            "_view_module_version": "1.2.0",
            "_view_name": "LayoutView",
            "align_content": null,
            "align_items": null,
            "align_self": null,
            "border": null,
            "bottom": null,
            "display": null,
            "flex": null,
            "flex_flow": null,
            "grid_area": null,
            "grid_auto_columns": null,
            "grid_auto_flow": null,
            "grid_auto_rows": null,
            "grid_column": null,
            "grid_gap": null,
            "grid_row": null,
            "grid_template_areas": null,
            "grid_template_columns": null,
            "grid_template_rows": null,
            "height": null,
            "justify_content": null,
            "justify_items": null,
            "left": null,
            "margin": null,
            "max_height": null,
            "max_width": null,
            "min_height": null,
            "min_width": null,
            "object_fit": null,
            "object_position": null,
            "order": null,
            "overflow": null,
            "overflow_x": null,
            "overflow_y": null,
            "padding": null,
            "right": null,
            "top": null,
            "visibility": null,
            "width": null
          }
        },
        "a3c427c13afc43e8970558b20ae60d75": {
          "model_module": "@jupyter-widgets/controls",
          "model_name": "DescriptionStyleModel",
          "model_module_version": "1.5.0",
          "state": {
            "_model_module": "@jupyter-widgets/controls",
            "_model_module_version": "1.5.0",
            "_model_name": "DescriptionStyleModel",
            "_view_count": null,
            "_view_module": "@jupyter-widgets/base",
            "_view_module_version": "1.2.0",
            "_view_name": "StyleView",
            "description_width": ""
          }
        },
        "a617838d04614e7baa978af5303f29fd": {
          "model_module": "@jupyter-widgets/base",
          "model_name": "LayoutModel",
          "model_module_version": "1.2.0",
          "state": {
            "_model_module": "@jupyter-widgets/base",
            "_model_module_version": "1.2.0",
            "_model_name": "LayoutModel",
            "_view_count": null,
            "_view_module": "@jupyter-widgets/base",
            "_view_module_version": "1.2.0",
            "_view_name": "LayoutView",
            "align_content": null,
            "align_items": null,
            "align_self": null,
            "border": null,
            "bottom": null,
            "display": null,
            "flex": null,
            "flex_flow": null,
            "grid_area": null,
            "grid_auto_columns": null,
            "grid_auto_flow": null,
            "grid_auto_rows": null,
            "grid_column": null,
            "grid_gap": null,
            "grid_row": null,
            "grid_template_areas": null,
            "grid_template_columns": null,
            "grid_template_rows": null,
            "height": null,
            "justify_content": null,
            "justify_items": null,
            "left": null,
            "margin": null,
            "max_height": null,
            "max_width": null,
            "min_height": null,
            "min_width": null,
            "object_fit": null,
            "object_position": null,
            "order": null,
            "overflow": null,
            "overflow_x": null,
            "overflow_y": null,
            "padding": null,
            "right": null,
            "top": null,
            "visibility": null,
            "width": null
          }
        },
        "855426f8405c4977a7300a9f0292a707": {
          "model_module": "@jupyter-widgets/controls",
          "model_name": "ProgressStyleModel",
          "model_module_version": "1.5.0",
          "state": {
            "_model_module": "@jupyter-widgets/controls",
            "_model_module_version": "1.5.0",
            "_model_name": "ProgressStyleModel",
            "_view_count": null,
            "_view_module": "@jupyter-widgets/base",
            "_view_module_version": "1.2.0",
            "_view_name": "StyleView",
            "bar_color": null,
            "description_width": ""
          }
        },
        "2bb36cf7ac3f49bc8317d6f3b90b5abe": {
          "model_module": "@jupyter-widgets/base",
          "model_name": "LayoutModel",
          "model_module_version": "1.2.0",
          "state": {
            "_model_module": "@jupyter-widgets/base",
            "_model_module_version": "1.2.0",
            "_model_name": "LayoutModel",
            "_view_count": null,
            "_view_module": "@jupyter-widgets/base",
            "_view_module_version": "1.2.0",
            "_view_name": "LayoutView",
            "align_content": null,
            "align_items": null,
            "align_self": null,
            "border": null,
            "bottom": null,
            "display": null,
            "flex": null,
            "flex_flow": null,
            "grid_area": null,
            "grid_auto_columns": null,
            "grid_auto_flow": null,
            "grid_auto_rows": null,
            "grid_column": null,
            "grid_gap": null,
            "grid_row": null,
            "grid_template_areas": null,
            "grid_template_columns": null,
            "grid_template_rows": null,
            "height": null,
            "justify_content": null,
            "justify_items": null,
            "left": null,
            "margin": null,
            "max_height": null,
            "max_width": null,
            "min_height": null,
            "min_width": null,
            "object_fit": null,
            "object_position": null,
            "order": null,
            "overflow": null,
            "overflow_x": null,
            "overflow_y": null,
            "padding": null,
            "right": null,
            "top": null,
            "visibility": null,
            "width": null
          }
        },
        "d93478f115774916acaa8bd22b45f7f3": {
          "model_module": "@jupyter-widgets/controls",
          "model_name": "DescriptionStyleModel",
          "model_module_version": "1.5.0",
          "state": {
            "_model_module": "@jupyter-widgets/controls",
            "_model_module_version": "1.5.0",
            "_model_name": "DescriptionStyleModel",
            "_view_count": null,
            "_view_module": "@jupyter-widgets/base",
            "_view_module_version": "1.2.0",
            "_view_name": "StyleView",
            "description_width": ""
          }
        },
        "79ef136361af4bbe9bf78783f63c2b9e": {
          "model_module": "@jupyter-widgets/controls",
          "model_name": "HBoxModel",
          "model_module_version": "1.5.0",
          "state": {
            "_dom_classes": [],
            "_model_module": "@jupyter-widgets/controls",
            "_model_module_version": "1.5.0",
            "_model_name": "HBoxModel",
            "_view_count": null,
            "_view_module": "@jupyter-widgets/controls",
            "_view_module_version": "1.5.0",
            "_view_name": "HBoxView",
            "box_style": "",
            "children": [
              "IPY_MODEL_738d159452d1483189abf81899b345f4",
              "IPY_MODEL_72cd8fae9135483dbd7292e2ac464f03",
              "IPY_MODEL_949ad20600c84a63824cc12223602217"
            ],
            "layout": "IPY_MODEL_265bc876db484d58919e84c1dd9448c9"
          }
        },
        "738d159452d1483189abf81899b345f4": {
          "model_module": "@jupyter-widgets/controls",
          "model_name": "HTMLModel",
          "model_module_version": "1.5.0",
          "state": {
            "_dom_classes": [],
            "_model_module": "@jupyter-widgets/controls",
            "_model_module_version": "1.5.0",
            "_model_name": "HTMLModel",
            "_view_count": null,
            "_view_module": "@jupyter-widgets/controls",
            "_view_module_version": "1.5.0",
            "_view_name": "HTMLView",
            "description": "",
            "description_tooltip": null,
            "layout": "IPY_MODEL_8675d999bcc743d5ac80d7a57d5b18a8",
            "placeholder": "​",
            "style": "IPY_MODEL_8ade72811de045b8adc3cb7e33617ea0",
            "value": "Downloading: 100%"
          }
        },
        "72cd8fae9135483dbd7292e2ac464f03": {
          "model_module": "@jupyter-widgets/controls",
          "model_name": "FloatProgressModel",
          "model_module_version": "1.5.0",
          "state": {
            "_dom_classes": [],
            "_model_module": "@jupyter-widgets/controls",
            "_model_module_version": "1.5.0",
            "_model_name": "FloatProgressModel",
            "_view_count": null,
            "_view_module": "@jupyter-widgets/controls",
            "_view_module_version": "1.5.0",
            "_view_name": "ProgressView",
            "bar_style": "success",
            "description": "",
            "description_tooltip": null,
            "layout": "IPY_MODEL_01437dd04c2d4f1aa4df494386bce43a",
            "max": 802275154,
            "min": 0,
            "orientation": "horizontal",
            "style": "IPY_MODEL_317d2b3dfb2c45edaa98aaf4cf2c0f7c",
            "value": 802275154
          }
        },
        "949ad20600c84a63824cc12223602217": {
          "model_module": "@jupyter-widgets/controls",
          "model_name": "HTMLModel",
          "model_module_version": "1.5.0",
          "state": {
            "_dom_classes": [],
            "_model_module": "@jupyter-widgets/controls",
            "_model_module_version": "1.5.0",
            "_model_name": "HTMLModel",
            "_view_count": null,
            "_view_module": "@jupyter-widgets/controls",
            "_view_module_version": "1.5.0",
            "_view_name": "HTMLView",
            "description": "",
            "description_tooltip": null,
            "layout": "IPY_MODEL_a23bd55f405448ec865a4fd6212681d8",
            "placeholder": "​",
            "style": "IPY_MODEL_77f2e2bb15ea4efb9c1ccf3f3dd10d4d",
            "value": " 765M/765M [00:47&lt;00:00, 15.7MB/s]"
          }
        },
        "265bc876db484d58919e84c1dd9448c9": {
          "model_module": "@jupyter-widgets/base",
          "model_name": "LayoutModel",
          "model_module_version": "1.2.0",
          "state": {
            "_model_module": "@jupyter-widgets/base",
            "_model_module_version": "1.2.0",
            "_model_name": "LayoutModel",
            "_view_count": null,
            "_view_module": "@jupyter-widgets/base",
            "_view_module_version": "1.2.0",
            "_view_name": "LayoutView",
            "align_content": null,
            "align_items": null,
            "align_self": null,
            "border": null,
            "bottom": null,
            "display": null,
            "flex": null,
            "flex_flow": null,
            "grid_area": null,
            "grid_auto_columns": null,
            "grid_auto_flow": null,
            "grid_auto_rows": null,
            "grid_column": null,
            "grid_gap": null,
            "grid_row": null,
            "grid_template_areas": null,
            "grid_template_columns": null,
            "grid_template_rows": null,
            "height": null,
            "justify_content": null,
            "justify_items": null,
            "left": null,
            "margin": null,
            "max_height": null,
            "max_width": null,
            "min_height": null,
            "min_width": null,
            "object_fit": null,
            "object_position": null,
            "order": null,
            "overflow": null,
            "overflow_x": null,
            "overflow_y": null,
            "padding": null,
            "right": null,
            "top": null,
            "visibility": null,
            "width": null
          }
        },
        "8675d999bcc743d5ac80d7a57d5b18a8": {
          "model_module": "@jupyter-widgets/base",
          "model_name": "LayoutModel",
          "model_module_version": "1.2.0",
          "state": {
            "_model_module": "@jupyter-widgets/base",
            "_model_module_version": "1.2.0",
            "_model_name": "LayoutModel",
            "_view_count": null,
            "_view_module": "@jupyter-widgets/base",
            "_view_module_version": "1.2.0",
            "_view_name": "LayoutView",
            "align_content": null,
            "align_items": null,
            "align_self": null,
            "border": null,
            "bottom": null,
            "display": null,
            "flex": null,
            "flex_flow": null,
            "grid_area": null,
            "grid_auto_columns": null,
            "grid_auto_flow": null,
            "grid_auto_rows": null,
            "grid_column": null,
            "grid_gap": null,
            "grid_row": null,
            "grid_template_areas": null,
            "grid_template_columns": null,
            "grid_template_rows": null,
            "height": null,
            "justify_content": null,
            "justify_items": null,
            "left": null,
            "margin": null,
            "max_height": null,
            "max_width": null,
            "min_height": null,
            "min_width": null,
            "object_fit": null,
            "object_position": null,
            "order": null,
            "overflow": null,
            "overflow_x": null,
            "overflow_y": null,
            "padding": null,
            "right": null,
            "top": null,
            "visibility": null,
            "width": null
          }
        },
        "8ade72811de045b8adc3cb7e33617ea0": {
          "model_module": "@jupyter-widgets/controls",
          "model_name": "DescriptionStyleModel",
          "model_module_version": "1.5.0",
          "state": {
            "_model_module": "@jupyter-widgets/controls",
            "_model_module_version": "1.5.0",
            "_model_name": "DescriptionStyleModel",
            "_view_count": null,
            "_view_module": "@jupyter-widgets/base",
            "_view_module_version": "1.2.0",
            "_view_name": "StyleView",
            "description_width": ""
          }
        },
        "01437dd04c2d4f1aa4df494386bce43a": {
          "model_module": "@jupyter-widgets/base",
          "model_name": "LayoutModel",
          "model_module_version": "1.2.0",
          "state": {
            "_model_module": "@jupyter-widgets/base",
            "_model_module_version": "1.2.0",
            "_model_name": "LayoutModel",
            "_view_count": null,
            "_view_module": "@jupyter-widgets/base",
            "_view_module_version": "1.2.0",
            "_view_name": "LayoutView",
            "align_content": null,
            "align_items": null,
            "align_self": null,
            "border": null,
            "bottom": null,
            "display": null,
            "flex": null,
            "flex_flow": null,
            "grid_area": null,
            "grid_auto_columns": null,
            "grid_auto_flow": null,
            "grid_auto_rows": null,
            "grid_column": null,
            "grid_gap": null,
            "grid_row": null,
            "grid_template_areas": null,
            "grid_template_columns": null,
            "grid_template_rows": null,
            "height": null,
            "justify_content": null,
            "justify_items": null,
            "left": null,
            "margin": null,
            "max_height": null,
            "max_width": null,
            "min_height": null,
            "min_width": null,
            "object_fit": null,
            "object_position": null,
            "order": null,
            "overflow": null,
            "overflow_x": null,
            "overflow_y": null,
            "padding": null,
            "right": null,
            "top": null,
            "visibility": null,
            "width": null
          }
        },
        "317d2b3dfb2c45edaa98aaf4cf2c0f7c": {
          "model_module": "@jupyter-widgets/controls",
          "model_name": "ProgressStyleModel",
          "model_module_version": "1.5.0",
          "state": {
            "_model_module": "@jupyter-widgets/controls",
            "_model_module_version": "1.5.0",
            "_model_name": "ProgressStyleModel",
            "_view_count": null,
            "_view_module": "@jupyter-widgets/base",
            "_view_module_version": "1.2.0",
            "_view_name": "StyleView",
            "bar_color": null,
            "description_width": ""
          }
        },
        "a23bd55f405448ec865a4fd6212681d8": {
          "model_module": "@jupyter-widgets/base",
          "model_name": "LayoutModel",
          "model_module_version": "1.2.0",
          "state": {
            "_model_module": "@jupyter-widgets/base",
            "_model_module_version": "1.2.0",
            "_model_name": "LayoutModel",
            "_view_count": null,
            "_view_module": "@jupyter-widgets/base",
            "_view_module_version": "1.2.0",
            "_view_name": "LayoutView",
            "align_content": null,
            "align_items": null,
            "align_self": null,
            "border": null,
            "bottom": null,
            "display": null,
            "flex": null,
            "flex_flow": null,
            "grid_area": null,
            "grid_auto_columns": null,
            "grid_auto_flow": null,
            "grid_auto_rows": null,
            "grid_column": null,
            "grid_gap": null,
            "grid_row": null,
            "grid_template_areas": null,
            "grid_template_columns": null,
            "grid_template_rows": null,
            "height": null,
            "justify_content": null,
            "justify_items": null,
            "left": null,
            "margin": null,
            "max_height": null,
            "max_width": null,
            "min_height": null,
            "min_width": null,
            "object_fit": null,
            "object_position": null,
            "order": null,
            "overflow": null,
            "overflow_x": null,
            "overflow_y": null,
            "padding": null,
            "right": null,
            "top": null,
            "visibility": null,
            "width": null
          }
        },
        "77f2e2bb15ea4efb9c1ccf3f3dd10d4d": {
          "model_module": "@jupyter-widgets/controls",
          "model_name": "DescriptionStyleModel",
          "model_module_version": "1.5.0",
          "state": {
            "_model_module": "@jupyter-widgets/controls",
            "_model_module_version": "1.5.0",
            "_model_name": "DescriptionStyleModel",
            "_view_count": null,
            "_view_module": "@jupyter-widgets/base",
            "_view_module_version": "1.2.0",
            "_view_name": "StyleView",
            "description_width": ""
          }
        }
      }
    }
  },
  "cells": [
    {
      "cell_type": "markdown",
      "metadata": {
        "id": "Qjw3p8ZrDPH1"
      },
      "source": [
        "## Inference with LayoutLMv2ForTokenClassification + Gradio demo\n",
        "\n",
        "In this notebook, we are going to perform inference with `LayoutLMv2ForTokenClassification` on new document images, when no label information is accessible. At the end, we will also make a cool [Gradio](https://gradio.app/) demo, that turns our inference code into a cool web interface."
      ]
    },
    {
      "cell_type": "markdown",
      "metadata": {
        "id": "3FVdhAI7qiK0"
      },
      "source": [
        "## Install libraries\n",
        "\n",
        "Let's first install the required libraries:\n",
        "* HuggingFace Transformers + Detectron2 (for the model)\n",
        "* HuggingFace Datasets (for getting the data)\n",
        "* PyTesseract (for OCR)"
      ]
    },
    {
      "cell_type": "code",
      "metadata": {
        "id": "rrkX7ya2qZn0",
        "colab": {
          "base_uri": "https://localhost:8080/"
        },
        "outputId": "f31631ff-ae73-4a93-e5f7-e28c36a50636"
      },
      "source": [
        "!pip install Pillow==9.0.0\n",
        "!pip install -q transformers"
      ],
      "execution_count": 1,
      "outputs": [
        {
          "output_type": "stream",
          "name": "stdout",
          "text": [
            "Looking in indexes: https://pypi.org/simple, https://us-python.pkg.dev/colab-wheels/public/simple/\n",
            "Requirement already satisfied: Pillow==9.0.0 in /usr/local/lib/python3.7/dist-packages (9.0.0)\n"
          ]
        }
      ]
    },
    {
      "cell_type": "code",
      "metadata": {
        "colab": {
          "base_uri": "https://localhost:8080/"
        },
        "id": "ZHIoyLl0qhsq",
        "outputId": "ffd3eb28-0752-4bdf-93bd-eeee47552b0b"
      },
      "source": [
        "!pip install pyyaml==5.1\n",
        "# workaround: install old version of pytorch since detectron2 hasn't released packages for pytorch 1.9 (issue: https://github.com/facebookresearch/detectron2/issues/3158)\n",
        "!pip install torch==1.8.0+cu101 torchvision==0.9.0+cu101 -f https://download.pytorch.org/whl/torch_stable.html\n",
        "# install detectron2 that matches pytorch 1.8\n",
        "# See https://detectron2.readthedocs.io/tutorials/install.html for instructions\n",
        "!pip install -q detectron2 -f https://dl.fbaipublicfiles.com/detectron2/wheels/cu101/torch1.8/index.html\n",
        "# exit(0)  # After installation, you need to \"restart runtime\" in Colab. This line can also restart runtime"
      ],
      "execution_count": 2,
      "outputs": [
        {
          "output_type": "stream",
          "name": "stdout",
          "text": [
            "Looking in indexes: https://pypi.org/simple, https://us-python.pkg.dev/colab-wheels/public/simple/\n",
            "Requirement already satisfied: pyyaml==5.1 in /usr/local/lib/python3.7/dist-packages (5.1)\n",
            "Looking in indexes: https://pypi.org/simple, https://us-python.pkg.dev/colab-wheels/public/simple/\n",
            "Looking in links: https://download.pytorch.org/whl/torch_stable.html\n",
            "Requirement already satisfied: torch==1.8.0+cu101 in /usr/local/lib/python3.7/dist-packages (1.8.0+cu101)\n",
            "Requirement already satisfied: torchvision==0.9.0+cu101 in /usr/local/lib/python3.7/dist-packages (0.9.0+cu101)\n",
            "Requirement already satisfied: typing-extensions in /usr/local/lib/python3.7/dist-packages (from torch==1.8.0+cu101) (4.1.1)\n",
            "Requirement already satisfied: numpy in /usr/local/lib/python3.7/dist-packages (from torch==1.8.0+cu101) (1.21.6)\n",
            "Requirement already satisfied: pillow>=4.1.1 in /usr/local/lib/python3.7/dist-packages (from torchvision==0.9.0+cu101) (9.0.0)\n"
          ]
        }
      ]
    },
    {
      "cell_type": "code",
      "metadata": {
        "id": "SPEBa4_eWIhL"
      },
      "source": [
        "!pip install -q datasets"
      ],
      "execution_count": 3,
      "outputs": []
    },
    {
      "cell_type": "code",
      "metadata": {
        "colab": {
          "base_uri": "https://localhost:8080/"
        },
        "id": "Fz28suY3X5BA",
        "outputId": "d2be1a9b-f8b4-4228-d9fa-3f06042e45c0"
      },
      "source": [
        "!sudo apt install tesseract-ocr\n",
        "!pip install -q pytesseract\n",
        "!pip install joblib"
      ],
      "execution_count": 4,
      "outputs": [
        {
          "output_type": "stream",
          "name": "stdout",
          "text": [
            "Reading package lists... Done\n",
            "Building dependency tree       \n",
            "Reading state information... Done\n",
            "tesseract-ocr is already the newest version (4.00~git2288-10f4998a-2).\n",
            "The following package was automatically installed and is no longer required:\n",
            "  libnvidia-common-460\n",
            "Use 'sudo apt autoremove' to remove it.\n",
            "0 upgraded, 0 newly installed, 0 to remove and 49 not upgraded.\n",
            "Looking in indexes: https://pypi.org/simple, https://us-python.pkg.dev/colab-wheels/public/simple/\n",
            "Requirement already satisfied: joblib in /usr/local/lib/python3.7/dist-packages (1.1.0)\n"
          ]
        }
      ]
    },
    {
      "cell_type": "markdown",
      "metadata": {
        "id": "7IbG35mXt_3Q"
      },
      "source": [
        "## Load dataset\n",
        "\n",
        "We load the FUNSD dataset from the hub, which I uploaded."
      ]
    },
    {
      "cell_type": "code",
      "metadata": {
        "colab": {
          "base_uri": "https://localhost:8080/",
          "height": 160,
          "referenced_widgets": [
            "21085224aa644cda9f37d4c55e053620",
            "ac8d2927bc3242669417db07ba96eb22",
            "548f0f0b4f3e46f69d069cd91738761e",
            "c96ec194901b4865aef9ee3d43290b10",
            "612f3887bf7740298a704a220be37bf9",
            "00a6f6c6901448d99df5583fc801aeaf",
            "117caecd37a64fd28c42fb16a684b1c9",
            "e20ab564f43f45d7a5ed9a70388495de",
            "cbf32407c1a24252b73ee5e1b780182f",
            "cf52f7135d4e439fae39e9a650827ad9",
            "248ea6c8f5514677aea2acffe57c7cdb",
            "bcceab3890d44e8b854dd596c78976f4",
            "f1e9bbe1ecc74d23b40898a29f0b95bf",
            "d157d6b7d1034f8b9316d8290403cea5",
            "18f3cd2bbf184d6194edb05ee3045094",
            "05dd1554e10c4406ac254594ab17135f",
            "ee88674e782d42dcab12d73495169849",
            "d0b040cb7af0421caa3f80b57ae56d30",
            "c38b6d538dc247488359ac9f9ccb1984",
            "c28b30174f1b4db8b1a8cd5457f0b513",
            "4bfd96e05d0342eb854afbcc4b6729e0",
            "5092d75ab6ba48d5a0a6379c6ca7c348",
            "39b3877225da4db28fd527e8401e7441",
            "b4b42837e4184fbcade676ff854ff1a6",
            "72562d05a5874cf0a98e075670ad9d6d",
            "1f3c136be42f4fec9bcd4f6deb8576f1",
            "1edb1ad817754dc798749936fabf88df",
            "d9ebe40e4b9c4bb196db39179e9dccda",
            "de0af0095b144871bde32ce59462d30d",
            "f91b60769ff7475fb4dd9488356093f9",
            "44c1266f741b4732a3f712b3fcef99ab",
            "b4aeb03355514767a24ab616409c36c4",
            "be7bdc01e13f4d609fb347396344adb7"
          ]
        },
        "id": "8bX9rIvnuA3-",
        "outputId": "a529625d-5ddc-4fc4-f453-e465b5e17c22"
      },
      "source": [
        "from datasets import load_dataset \n",
        "\n",
        "datasets = load_dataset(\"nielsr/funsd\")"
      ],
      "execution_count": 5,
      "outputs": [
        {
          "output_type": "stream",
          "name": "stdout",
          "text": [
            "Downloading and preparing dataset funsd/funsd to /root/.cache/huggingface/datasets/nielsr___funsd/funsd/1.0.0/8b0472b536a2dcb975d59a4fb9d6fea4e6a1abe260b7fed6f75301e168cbe595...\n"
          ]
        },
        {
          "output_type": "display_data",
          "data": {
            "text/plain": [
              "Generating train split: 0 examples [00:00, ? examples/s]"
            ],
            "application/vnd.jupyter.widget-view+json": {
              "version_major": 2,
              "version_minor": 0,
              "model_id": "21085224aa644cda9f37d4c55e053620"
            }
          },
          "metadata": {}
        },
        {
          "output_type": "display_data",
          "data": {
            "text/plain": [
              "Generating test split: 0 examples [00:00, ? examples/s]"
            ],
            "application/vnd.jupyter.widget-view+json": {
              "version_major": 2,
              "version_minor": 0,
              "model_id": "bcceab3890d44e8b854dd596c78976f4"
            }
          },
          "metadata": {}
        },
        {
          "output_type": "stream",
          "name": "stdout",
          "text": [
            "Dataset funsd downloaded and prepared to /root/.cache/huggingface/datasets/nielsr___funsd/funsd/1.0.0/8b0472b536a2dcb975d59a4fb9d6fea4e6a1abe260b7fed6f75301e168cbe595. Subsequent calls will reuse this data.\n"
          ]
        },
        {
          "output_type": "display_data",
          "data": {
            "text/plain": [
              "  0%|          | 0/2 [00:00<?, ?it/s]"
            ],
            "application/vnd.jupyter.widget-view+json": {
              "version_major": 2,
              "version_minor": 0,
              "model_id": "39b3877225da4db28fd527e8401e7441"
            }
          },
          "metadata": {}
        }
      ]
    },
    {
      "cell_type": "markdown",
      "metadata": {
        "id": "w6J21gYSuHU1"
      },
      "source": [
        "Let's create a list containing all unique labels, as well as dictionaries mapping integers to their label names and vice versa. This will be useful to convert the model's predictions to actual label names."
      ]
    },
    {
      "cell_type": "code",
      "metadata": {
        "colab": {
          "base_uri": "https://localhost:8080/"
        },
        "id": "5kunp8uStlc4",
        "outputId": "daa11d37-39d6-4205-e3b0-56b8f61abeae"
      },
      "source": [
        "labels = datasets['train'].features['ner_tags'].feature.names\n",
        "print(labels)"
      ],
      "execution_count": 6,
      "outputs": [
        {
          "output_type": "stream",
          "name": "stdout",
          "text": [
            "['O', 'B-HEADER', 'I-HEADER', 'B-QUESTION', 'I-QUESTION', 'B-ANSWER', 'I-ANSWER']\n"
          ]
        }
      ]
    },
    {
      "cell_type": "code",
      "metadata": {
        "colab": {
          "base_uri": "https://localhost:8080/"
        },
        "id": "RlZIP7wjtnwp",
        "outputId": "fbc45234-5247-497c-8d56-1ce793ee91d5"
      },
      "source": [
        "id2label = {v: k for v, k in enumerate(labels)}\n",
        "label2id = {k: v for v, k in enumerate(labels)}\n",
        "label2id"
      ],
      "execution_count": 7,
      "outputs": [
        {
          "output_type": "execute_result",
          "data": {
            "text/plain": [
              "{'B-ANSWER': 5,\n",
              " 'B-HEADER': 1,\n",
              " 'B-QUESTION': 3,\n",
              " 'I-ANSWER': 6,\n",
              " 'I-HEADER': 2,\n",
              " 'I-QUESTION': 4,\n",
              " 'O': 0}"
            ]
          },
          "metadata": {},
          "execution_count": 7
        }
      ]
    },
    {
      "cell_type": "markdown",
      "metadata": {
        "id": "R6_wAbM7MdCt"
      },
      "source": [
        "## Inference\n",
        "\n",
        "Let's test the trained model on the first image of the test set:"
      ]
    },
    {
      "cell_type": "code",
      "metadata": {
        "colab": {
          "base_uri": "https://localhost:8080/"
        },
        "id": "rwipKFaWMjGi",
        "outputId": "0fbabc02-b544-4608-dc72-a44ba58ced3f"
      },
      "source": [
        "example = datasets[\"test\"][1]\n",
        "print(example.keys())"
      ],
      "execution_count": 8,
      "outputs": [
        {
          "output_type": "stream",
          "name": "stdout",
          "text": [
            "dict_keys(['id', 'words', 'bboxes', 'ner_tags', 'image_path'])\n"
          ]
        }
      ]
    },
    {
      "cell_type": "markdown",
      "metadata": {
        "id": "9GmMMug8u5-S"
      },
      "source": [
        "We can visualize the document image using PIL:"
      ]
    },
    {
      "cell_type": "code",
      "metadata": {
        "colab": {
          "base_uri": "https://localhost:8080/",
          "height": 1000
        },
        "id": "p_CWlcvyj3sj",
        "outputId": "30fd9bcb-2d1a-41e9-92d3-3d1dd9a591f7"
      },
      "source": [
        "from PIL import Image, ImageDraw, ImageFont\n",
        "\n",
        "image = Image.open(example['image_path'])\n",
        "image = image.convert(\"RGB\")\n",
        "image"
      ],
      "execution_count": 9,
      "outputs": [
        {
          "output_type": "execute_result",
          "data": {
            "text/plain": [
              "<PIL.Image.Image image mode=RGB size=754x1000 at 0x7F0A76CE0550>"
            ],
            "image/png": "[encoded data removed]"
          },
          "metadata": {},
          "execution_count": 9
        }
      ]
    },
    {
      "cell_type": "markdown",
      "source": [
        "### Built-in OCR (Pytesseract)"
      ],
      "metadata": {
        "id": "_ouMqK42itAH"
      }
    },
    {
      "cell_type": "markdown",
      "metadata": {
        "id": "-mMOxpyuMpl6"
      },
      "source": [
        "We prepare it for the model using `LayoutLMv2Processor`."
      ]
    },
    {
      "cell_type": "code",
      "metadata": {
        "colab": {
          "base_uri": "https://localhost:8080/",
          "height": 130,
          "referenced_widgets": [
            "59dbd9b29b7143bbbd6593f2fbb0c37a",
            "467604be765f4f82b0c008da8509875d",
            "f1ffc1949f364f2cb28116c391099c4d",
            "831765cb2eda43bab4638a1c4485a6e4",
            "65ecb52b86e442da803018a8138d045f",
            "f6b6d19ae76e4753894d20e53951ae3f",
            "a5714617d9f4422482bbb74fdc1d0915",
            "9172fc8cc34d4ad58f24ba43dbc720e8",
            "609150a64aa64013b406ac26f2b125dd",
            "f275d4150e0d492f86d025fc347a9919",
            "de6722356b944fd6af51f89df13e5730",
            "0d6020d8dd564767b9cebd693e8144cf",
            "4c5bf566cd2e4d638a060acaa20057c0",
            "23c046150a62435884ce9bcc81e7189c",
            "89355f49cc7b4d3ba7115b21ec56bbb6",
            "3b765c01f081489f9841e4c7c8ad51a3",
            "4bf341f617884b219820a5472f13747b",
            "e38f16c7d9c54e41b52a9a5789cce2fa",
            "72b58bab8f1b4d768b7da8194b5a249c",
            "c7504b319b364ac08dd268501a041e31",
            "f96c43d45c6c4d72aa1469bad254c3ef",
            "9117b166fe3845a7b62f7e60c6e158a5",
            "61c9a687e6d1489799ffac186430bf62",
            "aee9c20f5e904540b17aa88420dffc1c",
            "5bd97e633db84ac38346f19c212248a4",
            "70a6f1b890c6439aa8b1ae39d760ffaf",
            "06b8bfb8e8b24a6cac256df68240cca0",
            "e79cc0202a4a4b858a2c324d54c4e3b9",
            "3bafc26a3a5b4b6f8dcb5fdbcac2c902",
            "aa951b9bc1a046c19a8917105ee43822",
            "3ab33b2e65bd49c08b8c9f26f0ff7690",
            "252ce6cd3d5547bc8eb31e14eea686d2",
            "97737a7199d5497ca32a4827d3339f33"
          ]
        },
        "id": "k3tb-m80M390",
        "outputId": "b28b60da-9ec7-4c12-86d9-dbf81900d1e2"
      },
      "source": [
        "from transformers import LayoutLMv2Processor\n",
        "\n",
        "processor = LayoutLMv2Processor.from_pretrained(\"microsoft/layoutlmv2-base-uncased\")\n",
        "\n",
        "encoding = processor(image, return_offsets_mapping=True, return_tensors=\"pt\")\n",
        "offset_mapping = encoding.pop('offset_mapping')\n",
        "print(encoding.keys())"
      ],
      "execution_count": 10,
      "outputs": [
        {
          "output_type": "display_data",
          "data": {
            "text/plain": [
              "Downloading:   0%|          | 0.00/135 [00:00<?, ?B/s]"
            ],
            "application/vnd.jupyter.widget-view+json": {
              "version_major": 2,
              "version_minor": 0,
              "model_id": "59dbd9b29b7143bbbd6593f2fbb0c37a"
            }
          },
          "metadata": {}
        },
        {
          "output_type": "display_data",
          "data": {
            "text/plain": [
              "Downloading:   0%|          | 0.00/226k [00:00<?, ?B/s]"
            ],
            "application/vnd.jupyter.widget-view+json": {
              "version_major": 2,
              "version_minor": 0,
              "model_id": "0d6020d8dd564767b9cebd693e8144cf"
            }
          },
          "metadata": {}
        },
        {
          "output_type": "display_data",
          "data": {
            "text/plain": [
              "Downloading:   0%|          | 0.00/707 [00:00<?, ?B/s]"
            ],
            "application/vnd.jupyter.widget-view+json": {
              "version_major": 2,
              "version_minor": 0,
              "model_id": "61c9a687e6d1489799ffac186430bf62"
            }
          },
          "metadata": {}
        },
        {
          "output_type": "stream",
          "name": "stdout",
          "text": [
            "dict_keys(['input_ids', 'token_type_ids', 'attention_mask', 'bbox', 'image'])\n"
          ]
        }
      ]
    },
    {
      "cell_type": "markdown",
      "metadata": {
        "id": "kPJhS1nSu-FZ"
      },
      "source": [
        "Next, let's move everything to the GPU, if it's available."
      ]
    },
    {
      "cell_type": "code",
      "metadata": {
        "id": "xBVJ9-VfM1Qv"
      },
      "source": [
        "import torch\n",
        "\n",
        "device = torch.device('cuda' if torch.cuda.is_available() else 'cpu')\n",
        "\n",
        "for k,v in encoding.items():\n",
        "  encoding[k] = v.to(device)"
      ],
      "execution_count": 11,
      "outputs": []
    },
    {
      "cell_type": "code",
      "metadata": {
        "colab": {
          "base_uri": "https://localhost:8080/",
          "height": 98,
          "referenced_widgets": [
            "f6551412143c4525a4c4c858d1435082",
            "753b8ed6c30345ccb52c9505a4f865c7",
            "1c9f760c8e0b458e97bb8dedcdd18bca",
            "278dc4de19c24a69ba71dc0919caa856",
            "4a5b295e8c9543f6a1d34997b0d89700",
            "0bf4b1d17c8e4d5b9903e6542fb7e43e",
            "a3c427c13afc43e8970558b20ae60d75",
            "a617838d04614e7baa978af5303f29fd",
            "855426f8405c4977a7300a9f0292a707",
            "2bb36cf7ac3f49bc8317d6f3b90b5abe",
            "d93478f115774916acaa8bd22b45f7f3",
            "79ef136361af4bbe9bf78783f63c2b9e",
            "738d159452d1483189abf81899b345f4",
            "72cd8fae9135483dbd7292e2ac464f03",
            "949ad20600c84a63824cc12223602217",
            "265bc876db484d58919e84c1dd9448c9",
            "8675d999bcc743d5ac80d7a57d5b18a8",
            "8ade72811de045b8adc3cb7e33617ea0",
            "01437dd04c2d4f1aa4df494386bce43a",
            "317d2b3dfb2c45edaa98aaf4cf2c0f7c",
            "a23bd55f405448ec865a4fd6212681d8",
            "77f2e2bb15ea4efb9c1ccf3f3dd10d4d"
          ]
        },
        "id": "raF3yg3ONIXU",
        "outputId": "787d3b4d-ea38-4af9-e0c9-58acb1c9e0bd"
      },
      "source": [
        "from transformers import LayoutLMv2ForTokenClassification\n",
        "\n",
        "# load the fine-tuned model from the hub\n",
        "model = LayoutLMv2ForTokenClassification.from_pretrained(\"nielsr/layoutlmv2-finetuned-funsd\")\n",
        "model.to(device)\n",
        "\n",
        "# forward pass\n",
        "outputs = model(**encoding)\n",
        "print(outputs.logits.shape)"
      ],
      "execution_count": 12,
      "outputs": [
        {
          "output_type": "display_data",
          "data": {
            "text/plain": [
              "Downloading:   0%|          | 0.00/1.34k [00:00<?, ?B/s]"
            ],
            "application/vnd.jupyter.widget-view+json": {
              "version_major": 2,
              "version_minor": 0,
              "model_id": "f6551412143c4525a4c4c858d1435082"
            }
          },
          "metadata": {}
        },
        {
          "output_type": "display_data",
          "data": {
            "text/plain": [
              "Downloading:   0%|          | 0.00/765M [00:00<?, ?B/s]"
            ],
            "application/vnd.jupyter.widget-view+json": {
              "version_major": 2,
              "version_minor": 0,
              "model_id": "79ef136361af4bbe9bf78783f63c2b9e"
            }
          },
          "metadata": {}
        },
        {
          "output_type": "stream",
          "name": "stdout",
          "text": [
            "torch.Size([1, 148, 7])\n"
          ]
        }
      ]
    },
    {
      "cell_type": "markdown",
      "metadata": {
        "id": "yVg7xe47umcp"
      },
      "source": [
        "Let's create the true predictions as well as the true boxes. With \"true\", I mean only taking into account tokens that are at the start of a given word. We can use the `offset_mapping` returned by the processor to determine which tokens are a subword."
      ]
    },
    {
      "cell_type": "code",
      "metadata": {
        "id": "eFgjNr9SNzzb"
      },
      "source": [
        "def unnormalize_box(bbox, width, height):\n",
        "     return [\n",
        "         width * (bbox[0] / 1000),\n",
        "         height * (bbox[1] / 1000),\n",
        "         width * (bbox[2] / 1000),\n",
        "         height * (bbox[3] / 1000),\n",
        "     ]\n",
        "\n",
        "predictions = outputs.logits.argmax(-1).squeeze().tolist()\n",
        "token_boxes = encoding.bbox.squeeze().tolist()\n",
        "\n",
        "width, height = image.size"
      ],
      "execution_count": 13,
      "outputs": []
    },
    {
      "cell_type": "code",
      "metadata": {
        "id": "meas23NKbYka"
      },
      "source": [
        "import numpy as np\n",
        "\n",
        "is_subword = np.array(offset_mapping.squeeze().tolist())[:,0] != 0\n",
        "\n",
        "true_predictions = [id2label[pred] for idx, pred in enumerate(predictions) if not is_subword[idx]]\n",
        "true_boxes = [unnormalize_box(box, width, height) for idx, box in enumerate(token_boxes) if not is_subword[idx]]"
      ],
      "execution_count": 14,
      "outputs": []
    },
    {
      "cell_type": "code",
      "metadata": {
        "colab": {
          "base_uri": "https://localhost:8080/"
        },
        "id": "5xUT6-1FOqg4",
        "outputId": "2ec5bdf6-f579-428f-df77-c367049ece91"
      },
      "source": [
        "print(true_predictions)\n",
        "print(true_boxes)"
      ],
      "execution_count": 15,
      "outputs": [
        {
          "output_type": "stream",
          "name": "stdout",
          "text": [
            "['O', 'O', 'O', 'O', 'O', 'O', 'O', 'O', 'O', 'B-QUESTION', 'B-ANSWER', 'I-ANSWER', 'B-QUESTION', 'B-ANSWER', 'I-ANSWER', 'O', 'O', 'O', 'O', 'O', 'O', 'O', 'O', 'B-QUESTION', 'B-QUESTION', 'B-ANSWER', 'I-ANSWER', 'I-QUESTION', 'I-ANSWER', 'B-QUESTION', 'B-ANSWER', 'I-ANSWER', 'I-ANSWER', 'I-QUESTION', 'I-ANSWER', 'B-QUESTION', 'B-ANSWER', 'I-QUESTION', 'I-QUESTION', 'I-ANSWER', 'B-QUESTION', 'B-ANSWER', 'I-ANSWER', 'I-ANSWER', 'I-ANSWER', 'B-QUESTION', 'B-ANSWER', 'I-QUESTION', 'I-ANSWER', 'B-QUESTION', 'B-ANSWER', 'I-ANSWER', 'I-ANSWER', 'I-ANSWER', 'O', 'O', 'O', 'O', 'O', 'O', 'O', 'O', 'O', 'O', 'O', 'O', 'O', 'O', 'O', 'O', 'O', 'O', 'O', 'O', 'O', 'O', 'O', 'O', 'O', 'O', 'O']\n",
            "[[0.0, 0.0, 0.0, 0.0], [85.956, 78.0, 135.72, 87.0], [155.32399999999998, 79.0, 186.992, 87.0], [212.628, 79.0, 243.542, 88.0], [251.836, 80.0, 269.932, 88.0], [276.718, 80.0, 300.846, 88.0], [370.968, 81.0, 425.256, 89.0], [432.796, 81.0, 457.678, 89.0], [645.424, 81.0, 674.83, 92.0], [75.4, 142.0, 92.742, 151.0], [225.446, 143.0, 249.574, 151.0], [252.59, 143.0, 291.798, 153.0], [75.4, 170.0, 107.82199999999999, 179.0], [225.446, 171.0, 247.312, 179.0], [252.59, 172.0, 285.766, 182.0], [76.908, 322.0, 106.314, 332.0], [110.838, 322.0, 118.378, 330.0], [121.394, 322.0, 163.618, 331.0], [167.388, 323.0, 204.334, 331.0], [208.858, 322.0, 259.376, 331.0], [262.392, 323.0, 288.782, 331.0], [292.552, 322.0, 348.348, 331.0], [351.36400000000003, 322.0, 386.802, 332.0], [76.908, 350.0, 123.656, 359.0], [93.496, 378.0, 140.998, 386.0], [154.57, 378.0, 192.27, 387.0], [225.446, 378.0, 231.478, 387.0], [235.248, 378.0, 262.392, 387.0], [276.718, 378.0, 282.75, 386.0], [386.802, 378.0, 432.796, 387.0], [443.352, 378.0, 475.774, 387.0], [478.79, 379.0, 506.68800000000005, 387.0], [537.602, 378.0, 543.634, 387.0], [546.65, 378.0, 574.548, 387.0], [585.8580000000001, 378.0, 591.89, 387.0], [92.742, 406.0, 140.998, 414.0], [154.57, 406.0, 179.452, 414.0], [225.446, 405.0, 231.478, 415.0], [235.248, 405.0, 262.392, 415.0], [269.932, 406.0, 284.258, 414.0], [386.802, 406.0, 432.796, 414.0], [443.352, 406.0, 475.774, 415.0], [478.79, 406.0, 504.42600000000004, 415.0], [536.848, 406.0, 574.548, 415.0], [584.35, 407.0, 591.89, 415.0], [93.496, 434.0, 140.998, 442.0], [154.57, 434.0, 188.5, 444.0], [225.446, 433.0, 262.392, 442.0], [269.932, 434.0, 275.964, 442.0], [386.802, 434.0, 432.796, 442.0], [443.352, 433.0, 474.266, 442.0], [536.848, 434.0, 542.88, 442.0], [546.65, 434.0, 574.548, 442.0], [584.35, 434.0, 591.89, 441.0], [105.56000000000002, 502.0, 147.784, 512.0], [151.554, 502.0, 219.414, 512.0], [223.938, 502.0, 249.574, 512.0], [254.852, 502.0, 298.584, 512.0], [303.862, 502.0, 405.65200000000004, 512.0], [409.422, 502.0, 451.64599999999996, 512.0], [455.416, 502.0, 478.79, 512.0], [482.56, 502.0, 527.8, 512.0], [77.66199999999999, 516.0, 95.758, 526.0], [101.79, 518.0, 109.33, 525.0], [116.87, 516.0, 166.63400000000001, 526.0], [171.912, 516.0, 232.986, 525.0], [237.51, 516.0, 254.852, 525.0], [259.376, 516.0, 282.75, 525.0], [287.274, 516.0, 319.69599999999997, 525.0], [323.466, 516.0, 373.984, 525.0], [374.738, 516.0, 425.256, 525.0], [429.78, 516.0, 445.614, 525.0], [450.892, 516.0, 489.346, 525.0], [493.87, 516.0, 535.3399999999999, 525.0], [540.6179999999999, 516.0, 574.548, 525.0], [554.944, 911.0, 587.366, 923.0], [597.922, 911.0, 609.986, 921.0], [613.756, 912.0, 620.5419999999999, 921.0], [625.8199999999999, 912.0, 656.734, 924.0], [675.5840000000001, 779.0, 693.6800000000001, 878.0], [754.0, 1000.0, 754.0, 1000.0]]\n"
          ]
        }
      ]
    },
    {
      "cell_type": "markdown",
      "metadata": {
        "id": "r3HNHr4yOyL7"
      },
      "source": [
        "Let's visualize the result!"
      ]
    },
    {
      "cell_type": "code",
      "metadata": {
        "colab": {
          "base_uri": "https://localhost:8080/",
          "height": 54
        },
        "id": "AttFR_dMNVEL",
        "outputId": "000a10e2-ae98-4ea2-f387-c89ccef9901a"
      },
      "source": [
        "from PIL import ImageDraw\n",
        "import copy\n",
        "\n",
        "def iob_to_label(label):\n",
        "    label = label[2:]\n",
        "    if not label:\n",
        "      return 'other'\n",
        "    return label\n",
        "\n",
        "label2color = {'question':'blue', 'answer':'green', 'header':'orange', 'other':'violet'}\n",
        "\n",
        "def draw_layoutlm(image, true_predictions, true_boxes):\n",
        "  img_copy = copy.deepcopy(image)\n",
        "  draw = ImageDraw.Draw(img_copy)\n",
        "  font = ImageFont.load_default()\n",
        "  for prediction, box in zip(true_predictions, true_boxes):\n",
        "      predicted_label = iob_to_label(prediction).lower()\n",
        "      draw.rectangle(box, outline=label2color[predicted_label])\n",
        "      draw.text((box[0]+10, box[1]-10), text=predicted_label, fill=label2color[predicted_label], font=font)\n",
        "  display(img_copy)\n",
        "\n",
        "draw_layoutlm(image, true_predictions, true_boxes)"
      ],
      "execution_count": 16,
      "outputs": [
        {
          "output_type": "display_data",
          "data": {
            "text/plain": [
              "<PIL.Image.Image image mode=RGB size=754x1000 at 0x7F0A66AAFF50>"
            ],
            "image/png": "[encoded data removed]"
          },
          "metadata": {}
        }
      ]
    },
    {
      "cell_type": "markdown",
      "source": [
        "### Custom OCR"
      ],
      "metadata": {
        "id": "mKZiZi6FoJcY"
      }
    },
    {
      "cell_type": "markdown",
      "source": [
        "LayoutLMv2Processor is using by default pytesseract to extract boxes / words from the image\n",
        "Next steps we will show how to use your own OCR engine\n",
        "we test some alternatives:\n",
        "*   EasyOCR https://github.com/JaidedAI/EasyOCR\n",
        "*   Pytesseract using your own configs\n",
        "*   DocTR https://github.com/mindee/doctr\n",
        " \n",
        "\n",
        "\n"
      ],
      "metadata": {
        "id": "APUmci73UYoF"
      }
    },
    {
      "cell_type": "markdown",
      "source": [
        "#### EASYOCR"
      ],
      "metadata": {
        "id": "8JNTBw0QtCVR"
      }
    },
    {
      "cell_type": "code",
      "source": [
        "!pip install easyocr"
      ],
      "metadata": {
        "colab": {
          "base_uri": "https://localhost:8080/",
          "height": 644
        },
        "id": "tI7a8LeBp9j-",
        "outputId": "7bd9250a-2b9f-42ab-d1a0-37588d8c01ed"
      },
      "execution_count": 17,
      "outputs": [
        {
          "output_type": "stream",
          "name": "stdout",
          "text": [
            "Looking in indexes: https://pypi.org/simple, https://us-python.pkg.dev/colab-wheels/public/simple/\n",
            "Collecting easyocr\n",
            "  Downloading easyocr-1.5.0-py3-none-any.whl (70.8 MB)\n",
            "\u001b[K     |████████████████████████████████| 70.8 MB 724 kB/s \n",
            "\u001b[?25hRequirement already satisfied: torch in /usr/local/lib/python3.7/dist-packages (from easyocr) (1.8.0+cu101)\n",
            "Collecting python-bidi\n",
            "  Downloading python_bidi-0.4.2-py2.py3-none-any.whl (30 kB)\n",
            "Requirement already satisfied: Pillow in /usr/local/lib/python3.7/dist-packages (from easyocr) (9.0.0)\n",
            "Requirement already satisfied: scipy in /usr/local/lib/python3.7/dist-packages (from easyocr) (1.4.1)\n",
            "Collecting opencv-python-headless<=4.5.4.60\n",
            "  Downloading opencv_python_headless-4.5.4.60-cp37-cp37m-manylinux_2_17_x86_64.manylinux2014_x86_64.whl (47.6 MB)\n",
            "\u001b[K     |████████████████████████████████| 47.6 MB 1.4 MB/s \n",
            "\u001b[?25hRequirement already satisfied: PyYAML in /usr/local/lib/python3.7/dist-packages (from easyocr) (5.1)\n",
            "Requirement already satisfied: torchvision>=0.5 in /usr/local/lib/python3.7/dist-packages (from easyocr) (0.9.0+cu101)\n",
            "Requirement already satisfied: scikit-image in /usr/local/lib/python3.7/dist-packages (from easyocr) (0.18.3)\n",
            "Requirement already satisfied: numpy in /usr/local/lib/python3.7/dist-packages (from easyocr) (1.21.6)\n",
            "Requirement already satisfied: typing-extensions in /usr/local/lib/python3.7/dist-packages (from torch->easyocr) (4.1.1)\n",
            "Requirement already satisfied: six in /usr/local/lib/python3.7/dist-packages (from python-bidi->easyocr) (1.15.0)\n",
            "Requirement already satisfied: PyWavelets>=1.1.1 in /usr/local/lib/python3.7/dist-packages (from scikit-image->easyocr) (1.3.0)\n",
            "Requirement already satisfied: networkx>=2.0 in /usr/local/lib/python3.7/dist-packages (from scikit-image->easyocr) (2.6.3)\n",
            "Requirement already satisfied: imageio>=2.3.0 in /usr/local/lib/python3.7/dist-packages (from scikit-image->easyocr) (2.4.1)\n",
            "Requirement already satisfied: matplotlib!=3.0.0,>=2.0.0 in /usr/local/lib/python3.7/dist-packages (from scikit-image->easyocr) (3.2.2)\n",
            "Requirement already satisfied: tifffile>=2019.7.26 in /usr/local/lib/python3.7/dist-packages (from scikit-image->easyocr) (2021.11.2)\n",
            "Requirement already satisfied: kiwisolver>=1.0.1 in /usr/local/lib/python3.7/dist-packages (from matplotlib!=3.0.0,>=2.0.0->scikit-image->easyocr) (1.4.3)\n",
            "Requirement already satisfied: python-dateutil>=2.1 in /usr/local/lib/python3.7/dist-packages (from matplotlib!=3.0.0,>=2.0.0->scikit-image->easyocr) (2.8.2)\n",
            "Requirement already satisfied: pyparsing!=2.0.4,!=2.1.2,!=2.1.6,>=2.0.1 in /usr/local/lib/python3.7/dist-packages (from matplotlib!=3.0.0,>=2.0.0->scikit-image->easyocr) (3.0.9)\n",
            "Requirement already satisfied: cycler>=0.10 in /usr/local/lib/python3.7/dist-packages (from matplotlib!=3.0.0,>=2.0.0->scikit-image->easyocr) (0.11.0)\n",
            "Installing collected packages: python-bidi, opencv-python-headless, easyocr\n",
            "Successfully installed easyocr-1.5.0 opencv-python-headless-4.5.4.60 python-bidi-0.4.2\n"
          ]
        },
        {
          "output_type": "display_data",
          "data": {
            "application/vnd.colab-display-data+json": {
              "pip_warning": {
                "packages": [
                  "cv2"
                ]
              }
            }
          },
          "metadata": {}
        }
      ]
    },
    {
      "cell_type": "code",
      "source": [
        "import easyocr\n",
        "import io\n",
        "from joblib import Parallel, delayed\n",
        "import pytesseract as pt\n",
        "\n",
        "reader = easyocr.Reader(['en'], recognizer=True, gpu=True)"
      ],
      "metadata": {
        "colab": {
          "base_uri": "https://localhost:8080/"
        },
        "id": "4m52-y14teX5",
        "outputId": "f446d35f-fbaa-4896-87fa-867b995ce8bd"
      },
      "execution_count": null,
      "outputs": [
        {
          "output_type": "stream",
          "name": "stderr",
          "text": [
            "CUDA not available - defaulting to CPU. Note: This module is much faster with a GPU.\n",
            "Downloading detection model, please wait. This may take several minutes depending upon your network connection.\n"
          ]
        },
        {
          "output_type": "stream",
          "name": "stdout",
          "text": [
            "Progress: |██████████████████████████████████████████████████| 100.0% Complete"
          ]
        },
        {
          "output_type": "stream",
          "name": "stderr",
          "text": [
            "Downloading recognition model, please wait. This may take several minutes depending upon your network connection.\n"
          ]
        },
        {
          "output_type": "stream",
          "name": "stdout",
          "text": [
            "Progress: |████----------------------------------------------| 9.3% Complete"
          ]
        }
      ]
    },
    {
      "cell_type": "code",
      "source": [
        "def normalize_box(box, width, height):\n",
        "#     https://github.com/huggingface/transformers/blob/v4.19.2/src/transformers/models/layoutlmv2/feature_extraction_layoutlmv2.py#L82\n",
        "    \"Layoutlmv2\"\n",
        "    return [\n",
        "        int(1000 * (box[0] / width)),\n",
        "        int(1000 * (box[1] / height)),\n",
        "        int(1000 * (box[2] / width)),\n",
        "        int(1000 * (box[3] / height)),\n",
        "    ]\n",
        "\n",
        "def TESSERACT_OCR(CONTENT):\n",
        "    return pt.image_to_string(CONTENT, config=\"--psm 6\")\n",
        "\n",
        "def EASY_OCR_BOX(in_IMG, use_pytesseract = True):\n",
        "    W,H = in_IMG.size\n",
        "    img_byte_arr = io.BytesIO()\n",
        "    in_IMG.save(img_byte_arr, format='PNG')\n",
        "    img_byte_arr = img_byte_arr.getvalue()\n",
        "    BOXES = []\n",
        "    BOXES_text = []\n",
        "    if use_pytesseract:\n",
        "        result = reader.detect(img_byte_arr, slope_ths=0.4, text_threshold=0.5, add_margin=0.02, width_ths=0.1)\n",
        "        Result = result[0][0]\n",
        "        imgs_ocr = []\n",
        "        for idx in range(len(Result)):\n",
        "            x1,y1 = (Result[idx][0], Result[idx][2])\n",
        "            x2,y2 = (Result[idx][1], Result[idx][-1])\n",
        "            BOXES.append([x1,y1,x2,y2])\n",
        "            cropped_img = in_IMG.crop([x1,y1,x2,y2])\n",
        "            imgs_ocr.append(cropped_img)\n",
        "        BOXES_text = Parallel(n_jobs=-1, timeout=50, backend=\"threading\")(delayed(TESSERACT_OCR)(EL) for EL in imgs_ocr)\n",
        "    else:\n",
        "        result = reader.readtext(img_byte_arr, slope_ths=0.4, text_threshold=0.5, add_margin=0.02, width_ths=0.1)\n",
        "        for idx in range(len(result)):\n",
        "            x1,y1 = (result[idx][0][0][0], result[idx][0][0][1])\n",
        "            x2,y2 = (result[idx][0][2][0], result[idx][0][2][1])\n",
        "            BOXES.append([x1,y1,x2,y2])\n",
        "            BOXES_text.append(result[idx][1])\n",
        "    \n",
        "    irrelevant_indices = [idx for idx, word in enumerate(BOXES_text) if not word.strip()]\n",
        "    BOXES = [el for idx, el in enumerate(BOXES) if idx not in irrelevant_indices]\n",
        "    BOXES_text = [el for idx, el in enumerate(BOXES_text) if idx not in irrelevant_indices]\n",
        "    \n",
        "    irrelevant_indices = [idx for idx, box in enumerate(BOXES) if box[2]-box[0]<=0 or box[3]-box[1]<=0]\n",
        "    BOXES = [el for idx, el in enumerate(BOXES) if idx not in irrelevant_indices]\n",
        "    BOXES_text = [el for idx, el in enumerate(BOXES_text) if idx not in irrelevant_indices]\n",
        "    \n",
        "    return BOXES, BOXES_text"
      ],
      "metadata": {
        "id": "WwMC7RtftJAv"
      },
      "execution_count": null,
      "outputs": []
    },
    {
      "cell_type": "code",
      "source": [
        "%%time\n",
        "BOXES, BOXES_text = EASY_OCR_BOX(image, use_pytesseract = True)"
      ],
      "metadata": {
        "id": "UN31cbeEtKfp"
      },
      "execution_count": null,
      "outputs": []
    },
    {
      "cell_type": "code",
      "source": [
        "%%time\n",
        "BOXES, BOXES_text = EASY_OCR_BOX(image, use_pytesseract = False)"
      ],
      "metadata": {
        "id": "MZ5D-iGN0_7F"
      },
      "execution_count": null,
      "outputs": []
    },
    {
      "cell_type": "code",
      "source": [
        "def LAYOUT_LM_inf(image, BOXES, BOXES_text, model):\n",
        "    W, H = image.size\n",
        "    BOXES = [normalize_box(box, W, H) for box in BOXES]\n",
        "    processor = LayoutLMv2Processor.from_pretrained(\"microsoft/layoutlmv2-base-uncased\", revision=\"no_ocr\")\n",
        "    encoding = processor(image, BOXES_text, boxes=BOXES, return_offsets_mapping=True, return_tensors=\"pt\")\n",
        "    offset_mapping = encoding.pop(\"offset_mapping\")\n",
        "    device = torch.device(\"cuda\" if torch.cuda.is_available() else \"cpu\")\n",
        "    device = torch.device(\"cpu\")\n",
        "    for k,v in encoding.items():\n",
        "        encoding[k] = v.to(device).long() #https://stackoverflow.com/a/63079145\n",
        "    if len(encoding.input_ids[0])>512:#https://github.com/huggingface/transformers/issues/13554\n",
        "        print(\"len(encoding.input_ids[0])>512\", len(encoding.input_ids[0]))\n",
        "    model = model.to(device)\n",
        "    outputs = model(**encoding)\n",
        "\n",
        "    predictions = outputs.logits.argmax(-1).squeeze().tolist()\n",
        "    token_boxes = encoding.bbox.squeeze().tolist()\n",
        "\n",
        "    is_subword = np.array(offset_mapping.squeeze().tolist())[:,0] != 0\n",
        "\n",
        "    true_predictions = [id2label[pred] for idx, pred in enumerate(predictions) if not is_subword[idx]]\n",
        "    true_boxes = [unnormalize_box(box, W, H) for idx, box in enumerate(token_boxes) if not is_subword[idx]]\n",
        "\n",
        "    return true_predictions, true_boxes"
      ],
      "metadata": {
        "id": "qgR6VbWd2fOh"
      },
      "execution_count": null,
      "outputs": []
    },
    {
      "cell_type": "code",
      "source": [
        "true_predictions, true_boxes = LAYOUT_LM_inf(image, BOXES, BOXES_text, model)"
      ],
      "metadata": {
        "id": "ob7gXPu5oRUP"
      },
      "execution_count": null,
      "outputs": []
    },
    {
      "cell_type": "code",
      "source": [
        "draw_layoutlm(image, true_predictions, true_boxes)"
      ],
      "metadata": {
        "id": "8Z9mPdI62KZo"
      },
      "execution_count": null,
      "outputs": []
    },
    {
      "cell_type": "markdown",
      "source": [
        "#### PYTESSERACT with custom config"
      ],
      "metadata": {
        "id": "1oga-ul7Cvgc"
      }
    },
    {
      "cell_type": "code",
      "source": [
        "def PYTESSERACT(Img_path):\n",
        "  results = pt.image_to_data(Img_path, output_type=\"dict\",\n",
        "                            config=\"--psm 12\")\n",
        "  BOXES = []\n",
        "  BOXES_text = []\n",
        "  for idx,result in enumerate(range(len(results[\"text\"]))):\n",
        "    x1 = results[\"left\"][idx]\n",
        "    y1 = results[\"top\"][idx]\n",
        "    x2 = results[\"left\"][idx] + results[\"width\"][idx]\n",
        "    y2 = results[\"top\"][idx] + results[\"height\"][idx]\n",
        "    BOXES.append([x1,y1,x2,y2])\n",
        "    BOXES_text.append(results[\"text\"][idx])\n",
        "\n",
        "  irrelevant_indices = [idx for idx, word in enumerate(BOXES_text) if not word.strip()]\n",
        "  BOXES = [el for idx, el in enumerate(BOXES) if idx not in irrelevant_indices]\n",
        "  BOXES_text = [el for idx, el in enumerate(BOXES_text) if idx not in irrelevant_indices]\n",
        "\n",
        "  irrelevant_indices = [idx for idx, box in enumerate(BOXES) if box[2]-box[0]<=0 or box[3]-box[1]<=0]\n",
        "  BOXES = [el for idx, el in enumerate(BOXES) if idx not in irrelevant_indices]\n",
        "  BOXES_text = [el for idx, el in enumerate(BOXES_text) if idx not in irrelevant_indices]\n",
        "  return BOXES, BOXES_text"
      ],
      "metadata": {
        "id": "I0M-JfZ0JMq3"
      },
      "execution_count": null,
      "outputs": []
    },
    {
      "cell_type": "code",
      "source": [
        "BOXES, BOXES_text = PYTESSERACT(example['image_path'])\n",
        "true_predictions, true_boxes = LAYOUT_LM_inf(image, BOXES, BOXES_text, model)"
      ],
      "metadata": {
        "id": "ryCwhCpzJ5bV"
      },
      "execution_count": null,
      "outputs": []
    },
    {
      "cell_type": "code",
      "source": [
        "draw_layoutlm(image, true_predictions, true_boxes)"
      ],
      "metadata": {
        "id": "h2XMzUw6LTg9"
      },
      "execution_count": null,
      "outputs": []
    },
    {
      "cell_type": "markdown",
      "source": [
        "#### DOCTR"
      ],
      "metadata": {
        "id": "PgNJUgG-9poY"
      }
    },
    {
      "cell_type": "code",
      "source": [
        "!pip install \"python-doctr\"\n",
        "!pip install tensorflow-addons"
      ],
      "metadata": {
        "id": "75SGA1It9s0c"
      },
      "execution_count": null,
      "outputs": []
    },
    {
      "cell_type": "code",
      "source": [
        "import os\n",
        "import matplotlib.pyplot as plt\n",
        "from doctr.io import DocumentFile\n",
        "from doctr.models import ocr_predictor, detection_predictor\n",
        "os.environ['USE_TORCH'] = '1'\n",
        "\n",
        "detector = detection_predictor(arch='db_resnet50', pretrained=True, assume_straight_pages=True)\n",
        "# Instantiate a pretrained model\n",
        "predictor = ocr_predictor(pretrained=True, export_as_straight_boxes=True, det_arch='db_resnet50')"
      ],
      "metadata": {
        "id": "JueVXXJC9uYd"
      },
      "execution_count": null,
      "outputs": []
    },
    {
      "cell_type": "code",
      "source": [
        "def DOCTR_BOX(img_path, use_pytesseract = True):\n",
        "\n",
        "  doc = DocumentFile.from_images(img_path)\n",
        "  IMG = Image.open(img_path)\n",
        "  W,H = IMG.size\n",
        "\n",
        "  BOXES = []\n",
        "  BOXES_text = []\n",
        "  if use_pytesseract:\n",
        "      results = detector(doc)\n",
        "      imgs_ocr = []\n",
        "      for idx in range(len(results[0])):\n",
        "          x1,y1,x2,y2 = results[0][idx][0]*W,results[0][idx][1]*H,results[0][idx][2]*W,results[0][idx][3]*H\n",
        "          BOXES.append([x1,y1,x2,y2])\n",
        "          cropped_img = IMG.crop([round(x1),round(y1),round(x2),round(y2)])\n",
        "          imgs_ocr.append(cropped_img)\n",
        "      BOXES_text = Parallel(n_jobs=-1, timeout=50, backend=\"threading\")(delayed(TESSERACT_OCR)(EL) for EL in imgs_ocr)\n",
        "  else:\n",
        "      results = predictor(doc)\n",
        "      json_output = results.export()\n",
        "      blocks = json_output[\"pages\"][0][\"blocks\"]\n",
        "      for block in blocks:\n",
        "        block_lines = block[\"lines\"]\n",
        "        for block_line in block_lines:\n",
        "          line_words = block_line[\"words\"]\n",
        "          for line_word in line_words:\n",
        "            box = line_word[\"geometry\"]\n",
        "            box_text = line_word[\"value\"]\n",
        "            x1,y1,x2,y2 = box[0][0]*W,box[0][1]*H,box[1][0]*W,box[1][1]*H\n",
        "            BOXES.append([x1,y1,x2,y2])\n",
        "            BOXES_text.append(box_text)\n",
        "\n",
        "  irrelevant_indices = [idx for idx, word in enumerate(BOXES_text) if not word.strip()]\n",
        "  BOXES = [el for idx, el in enumerate(BOXES) if idx not in irrelevant_indices]\n",
        "  BOXES_text = [el for idx, el in enumerate(BOXES_text) if idx not in irrelevant_indices]\n",
        "\n",
        "  irrelevant_indices = [idx for idx, box in enumerate(BOXES) if box[2]-box[0]<=0 or box[3]-box[1]<=0]\n",
        "  BOXES = [el for idx, el in enumerate(BOXES) if idx not in irrelevant_indices]\n",
        "  BOXES_text = [el for idx, el in enumerate(BOXES_text) if idx not in irrelevant_indices]\n",
        "      \n",
        "        \n",
        "  return BOXES, BOXES_text"
      ],
      "metadata": {
        "id": "yo5W6Y9dDgBs"
      },
      "execution_count": null,
      "outputs": []
    },
    {
      "cell_type": "code",
      "source": [
        "%%time\n",
        "BOXES, BOXES_text = DOCTR_BOX(example['image_path'], use_pytesseract = True)"
      ],
      "metadata": {
        "id": "9GHXzhTKL28y"
      },
      "execution_count": null,
      "outputs": []
    },
    {
      "cell_type": "code",
      "source": [
        "%%time\n",
        "BOXES, BOXES_text = DOCTR_BOX(example['image_path'], use_pytesseract = False)"
      ],
      "metadata": {
        "id": "eUIQRhoOilnU"
      },
      "execution_count": null,
      "outputs": []
    },
    {
      "cell_type": "code",
      "source": [
        "true_predictions, true_boxes = LAYOUT_LM_inf(image, BOXES, BOXES_text, model)"
      ],
      "metadata": {
        "id": "0bv_9nwuL5-A"
      },
      "execution_count": null,
      "outputs": []
    },
    {
      "cell_type": "code",
      "source": [
        "draw_layoutlm(image, true_predictions, true_boxes)"
      ],
      "metadata": {
        "id": "3XmZIYCpNq_p"
      },
      "execution_count": null,
      "outputs": []
    },
    {
      "cell_type": "markdown",
      "source": [
        "### Ground truth"
      ],
      "metadata": {
        "id": "LMg3mkfqT5tH"
      }
    },
    {
      "cell_type": "markdown",
      "metadata": {
        "id": "z5a0-1LcndAE"
      },
      "source": [
        "As we can see, results aren't as good as previously. This can be explained by the fact that we're using a different OCR engine than the one that was used during fine-tuning.\n",
        "\n",
        "Compare this to the ground truth:"
      ]
    },
    {
      "cell_type": "code",
      "source": [
        "true_predictions, true_boxes = [], []\n",
        "for word, box, label in zip(example['words'], example['bboxes'], example['ner_tags']):\n",
        "  actual_label = iob_to_label(id2label[label]).lower()\n",
        "  box = unnormalize_box(box, width, height)\n",
        "  true_predictions.append(id2label[label])\n",
        "  true_boxes.append(box)\n",
        "draw_layoutlm(image, true_predictions, true_boxes)"
      ],
      "metadata": {
        "id": "CKY8YrRYPwXf"
      },
      "execution_count": null,
      "outputs": []
    },
    {
      "cell_type": "markdown",
      "metadata": {
        "id": "59_tENPL0_Ch"
      },
      "source": [
        "## Gradio demo\n",
        "\n",
        "We can also, based on the code above, create a quick [Gradio](https://gradio.app/) demo, which creates a web interface that enables people to quickly test the model.\n",
        "\n",
        "Gradio is very easy to set up, as can be seen below."
      ]
    },
    {
      "cell_type": "code",
      "metadata": {
        "id": "hKYODSuc1GyR"
      },
      "source": [
        "!pip install -q gradio"
      ],
      "execution_count": null,
      "outputs": []
    },
    {
      "cell_type": "code",
      "metadata": {
        "id": "RJcaaP38nBXM"
      },
      "source": [
        "import os\n",
        "os.system('pip install git+https://github.com/huggingface/transformers.git --upgrade')\n",
        "os.system('pip install pyyaml==5.1')\n",
        "# workaround: install old version of pytorch since detectron2 hasn't released packages for pytorch 1.9 (issue: https://github.com/facebookresearch/detectron2/issues/3158)\n",
        "os.system('pip install torch==1.8.0+cu101 torchvision==0.9.0+cu101 -f https://download.pytorch.org/whl/torch_stable.html')\n",
        "\n",
        "# install detectron2 that matches pytorch 1.8\n",
        "# See https://detectron2.readthedocs.io/tutorials/install.html for instructions\n",
        "os.system('pip install -q detectron2 -f https://dl.fbaipublicfiles.com/detectron2/wheels/cu101/torch1.8/index.html')\n",
        "\n",
        "## install PyTesseract\n",
        "os.system('pip install -q pytesseract')\n",
        "\n",
        "import gradio as gr\n",
        "import numpy as np\n",
        "from transformers import LayoutLMv2Processor, LayoutLMv2ForTokenClassification\n",
        "from datasets import load_dataset\n",
        "from PIL import Image, ImageDraw, ImageFont\n",
        "\n",
        "processor = LayoutLMv2Processor.from_pretrained(\"microsoft/layoutlmv2-base-uncased\")\n",
        "model = LayoutLMv2ForTokenClassification.from_pretrained(\"nielsr/layoutlmv2-finetuned-funsd\")\n",
        "\n",
        "# load image example\n",
        "dataset = load_dataset(\"nielsr/funsd\", split=\"test\")\n",
        "image = Image.open(dataset[0][\"image_path\"]).convert(\"RGB\")\n",
        "image.save(\"document.png\")\n",
        "# define id2label, label2color\n",
        "labels = dataset.features['ner_tags'].feature.names\n",
        "id2label = {v: k for v, k in enumerate(labels)}\n",
        "label2color = {'question':'blue', 'answer':'green', 'header':'orange', 'other':'violet'}\n",
        "\n",
        "def unnormalize_box(bbox, width, height):\n",
        "     return [\n",
        "         width * (bbox[0] / 1000),\n",
        "         height * (bbox[1] / 1000),\n",
        "         width * (bbox[2] / 1000),\n",
        "         height * (bbox[3] / 1000),\n",
        "     ]\n",
        "\n",
        "def iob_to_label(label):\n",
        "    label = label[2:]\n",
        "    if not label:\n",
        "      return 'other'\n",
        "    return label\n",
        "\n",
        "def process_image(image):\n",
        "    width, height = image.size\n",
        "\n",
        "    # encode\n",
        "    encoding = processor(image, truncation=True, return_offsets_mapping=True, return_tensors=\"pt\")\n",
        "    offset_mapping = encoding.pop('offset_mapping')\n",
        "\n",
        "    # forward pass\n",
        "    outputs = model(**encoding)\n",
        "\n",
        "    # get predictions\n",
        "    predictions = outputs.logits.argmax(-1).squeeze().tolist()\n",
        "    token_boxes = encoding.bbox.squeeze().tolist()\n",
        "\n",
        "    # only keep non-subword predictions\n",
        "    is_subword = np.array(offset_mapping.squeeze().tolist())[:,0] != 0\n",
        "    true_predictions = [id2label[pred] for idx, pred in enumerate(predictions) if not is_subword[idx]]\n",
        "    true_boxes = [unnormalize_box(box, width, height) for idx, box in enumerate(token_boxes) if not is_subword[idx]]\n",
        "\n",
        "    # draw predictions over the image\n",
        "    draw = ImageDraw.Draw(image)\n",
        "    font = ImageFont.load_default()\n",
        "    for prediction, box in zip(true_predictions, true_boxes):\n",
        "        predicted_label = iob_to_label(prediction).lower()\n",
        "        draw.rectangle(box, outline=label2color[predicted_label])\n",
        "        draw.text((box[0]+10, box[1]-10), text=predicted_label, fill=label2color[predicted_label], font=font)\n",
        "    \n",
        "    return image\n",
        "\n",
        "title = \"Interactive demo: LayoutLMv2\"\n",
        "description = \"Demo for Microsoft's LayoutLMv2, a Transformer for state-of-the-art document image understanding tasks. This particular model is fine-tuned on FUNSD, a dataset of manually annotated forms. It annotates the words into QUESTION/ANSWER/HEADER/OTHER. To use it, simply upload an image or use the example image below. Results will show up in a few seconds.\"\n",
        "article = \"<p style='text-align: center'><a href='https://arxiv.org/abs/2012.14740'>LayoutLMv2: Multi-modal Pre-training for Visually-Rich Document Understanding</a> | <a href='https://github.com/microsoft/unilm'>Github Repo</a></p>\"\n",
        "examples =[['document.png']]\n",
        "\n",
        "css = \"\"\".output_image, .input_image {height: 600px !important}\"\"\"\n",
        "\n",
        "iface = gr.Interface(fn=process_image, \n",
        "                     inputs=gr.inputs.Image(type=\"pil\"), \n",
        "                     outputs=gr.outputs.Image(type=\"pil\", label=\"annotated image\"),\n",
        "                     title=title,\n",
        "                     description=description,\n",
        "                     article=article,\n",
        "                     examples=examples,\n",
        "                     css=css)\n",
        "iface.launch(debug=True)"
      ],
      "execution_count": null,
      "outputs": []
    },
    {
      "cell_type": "code",
      "metadata": {
        "id": "RHoZt3Bd2CQu"
      },
      "source": [
        ""
      ],
      "execution_count": null,
      "outputs": []
    }
  ]
}